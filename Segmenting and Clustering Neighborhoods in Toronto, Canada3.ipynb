{
 "cells": [
  {
   "cell_type": "markdown",
   "metadata": {},
   "source": [
    "# Segmenting and Clustering Neighborhoods in Toronto"
   ]
  },
  {
   "cell_type": "code",
   "execution_count": 1,
   "metadata": {},
   "outputs": [],
   "source": [
    "import pandas as pd\n",
    "import numpy as np\n",
    "import re"
   ]
  },
  {
   "cell_type": "markdown",
   "metadata": {},
   "source": [
    "### obtain the data that is in the table of postal codes and transform the data into a pandas dataframe"
   ]
  },
  {
   "cell_type": "code",
   "execution_count": 2,
   "metadata": {},
   "outputs": [],
   "source": [
    "wikidata = pd.read_html(\"https://en.wikipedia.org/wiki/List_of_postal_codes_of_Canada:_M\", \n",
    "             match='Postcode', header=0)[0]"
   ]
  },
  {
   "cell_type": "markdown",
   "metadata": {},
   "source": [
    "### The dataframe will consist of three columns: PostalCode, Borough, and Neighborhood"
   ]
  },
  {
   "cell_type": "code",
   "execution_count": 3,
   "metadata": {},
   "outputs": [
    {
     "data": {
      "text/html": [
       "<div>\n",
       "<style scoped>\n",
       "    .dataframe tbody tr th:only-of-type {\n",
       "        vertical-align: middle;\n",
       "    }\n",
       "\n",
       "    .dataframe tbody tr th {\n",
       "        vertical-align: top;\n",
       "    }\n",
       "\n",
       "    .dataframe thead th {\n",
       "        text-align: right;\n",
       "    }\n",
       "</style>\n",
       "<table border=\"1\" class=\"dataframe\">\n",
       "  <thead>\n",
       "    <tr style=\"text-align: right;\">\n",
       "      <th></th>\n",
       "      <th>PostalCode</th>\n",
       "      <th>Borough</th>\n",
       "      <th>Neighborhood</th>\n",
       "    </tr>\n",
       "  </thead>\n",
       "  <tbody>\n",
       "    <tr>\n",
       "      <th>0</th>\n",
       "      <td>M1A</td>\n",
       "      <td>Not assigned</td>\n",
       "      <td>Not assigned</td>\n",
       "    </tr>\n",
       "    <tr>\n",
       "      <th>1</th>\n",
       "      <td>M2A</td>\n",
       "      <td>Not assigned</td>\n",
       "      <td>Not assigned</td>\n",
       "    </tr>\n",
       "    <tr>\n",
       "      <th>2</th>\n",
       "      <td>M3A</td>\n",
       "      <td>North York</td>\n",
       "      <td>Parkwoods</td>\n",
       "    </tr>\n",
       "    <tr>\n",
       "      <th>3</th>\n",
       "      <td>M4A</td>\n",
       "      <td>North York</td>\n",
       "      <td>Victoria Village</td>\n",
       "    </tr>\n",
       "    <tr>\n",
       "      <th>4</th>\n",
       "      <td>M5A</td>\n",
       "      <td>Downtown Toronto</td>\n",
       "      <td>Harbourfront</td>\n",
       "    </tr>\n",
       "  </tbody>\n",
       "</table>\n",
       "</div>"
      ],
      "text/plain": [
       "  PostalCode           Borough      Neighborhood\n",
       "0        M1A      Not assigned      Not assigned\n",
       "1        M2A      Not assigned      Not assigned\n",
       "2        M3A        North York         Parkwoods\n",
       "3        M4A        North York  Victoria Village\n",
       "4        M5A  Downtown Toronto      Harbourfront"
      ]
     },
     "execution_count": 3,
     "metadata": {},
     "output_type": "execute_result"
    }
   ],
   "source": [
    "wikidata = wikidata.rename(\n",
    "    mapper={'Postcode':'PostalCode', 'Neighbourhood':'Neighborhood'},\n",
    "    axis=1)\n",
    "wikidata.head()"
   ]
  },
  {
   "cell_type": "markdown",
   "metadata": {},
   "source": [
    "### Only process the cells that have an assigned borough. Ignore cells with a borough that is Not assigned."
   ]
  },
  {
   "cell_type": "code",
   "execution_count": 4,
   "metadata": {},
   "outputs": [],
   "source": [
    "befrows = wikidata.shape[0]\n",
    "wikidata = wikidata[wikidata['Borough']!='Not assigned']\n",
    "assert wikidata.shape[0] < befrows, \"No rows were removed\""
   ]
  },
  {
   "cell_type": "markdown",
   "metadata": {},
   "source": [
    "### More than one neighborhood can exist in one postal code area. For example, in the table on the Wikipedia page, you will notice that M5A is listed twice and has two neighborhoods: Harbourfront and Regent Park. These two rows will be combined into one row with the neighborhoods separated with a comma "
   ]
  },
  {
   "cell_type": "code",
   "execution_count": 5,
   "metadata": {},
   "outputs": [],
   "source": [
    "grouped = wikidata.groupby(['PostalCode','Borough'], \n",
    "                           as_index=False).aggregate(lambda x: ', '.join(x))"
   ]
  },
  {
   "cell_type": "markdown",
   "metadata": {},
   "source": [
    "### If a cell has a borough but a Not assigned neighborhood, then the neighborhood will be the same as the borough."
   ]
  },
  {
   "cell_type": "code",
   "execution_count": 6,
   "metadata": {},
   "outputs": [],
   "source": [
    "for index, row in grouped.iterrows():\n",
    "    row['Neighborhood'] = row['Borough'] if re.search('Not assigned', row['Neighborhood']) else row['Neighborhood']"
   ]
  },
  {
   "cell_type": "markdown",
   "metadata": {},
   "source": [
    "### In the last cell of your notebook, use the .shape method to print the number of rows of your dataframe."
   ]
  },
  {
   "cell_type": "code",
   "execution_count": 7,
   "metadata": {},
   "outputs": [
    {
     "data": {
      "text/plain": [
       "(103, 3)"
      ]
     },
     "execution_count": 7,
     "metadata": {},
     "output_type": "execute_result"
    }
   ],
   "source": [
    "grouped.shape"
   ]
  },
  {
   "cell_type": "markdown",
   "metadata": {},
   "source": [
    "# Section 2: Geocoder"
   ]
  },
  {
   "cell_type": "code",
   "execution_count": 8,
   "metadata": {},
   "outputs": [],
   "source": [
    "import geocoder"
   ]
  },
  {
   "cell_type": "code",
   "execution_count": 9,
   "metadata": {},
   "outputs": [],
   "source": [
    "geodata = pd.read_csv(\"https://cocl.us/Geospatial_data\").rename(\n",
    "    mapper={\"Postal Code\": \"PostalCode\"}, axis=1)"
   ]
  },
  {
   "cell_type": "code",
   "execution_count": 10,
   "metadata": {},
   "outputs": [
    {
     "data": {
      "text/html": [
       "<div>\n",
       "<style scoped>\n",
       "    .dataframe tbody tr th:only-of-type {\n",
       "        vertical-align: middle;\n",
       "    }\n",
       "\n",
       "    .dataframe tbody tr th {\n",
       "        vertical-align: top;\n",
       "    }\n",
       "\n",
       "    .dataframe thead th {\n",
       "        text-align: right;\n",
       "    }\n",
       "</style>\n",
       "<table border=\"1\" class=\"dataframe\">\n",
       "  <thead>\n",
       "    <tr style=\"text-align: right;\">\n",
       "      <th></th>\n",
       "      <th>PostalCode</th>\n",
       "      <th>Borough</th>\n",
       "      <th>Neighborhood</th>\n",
       "      <th>Latitude</th>\n",
       "      <th>Longitude</th>\n",
       "    </tr>\n",
       "  </thead>\n",
       "  <tbody>\n",
       "    <tr>\n",
       "      <th>0</th>\n",
       "      <td>M1B</td>\n",
       "      <td>Scarborough</td>\n",
       "      <td>Rouge, Malvern</td>\n",
       "      <td>43.806686</td>\n",
       "      <td>-79.194353</td>\n",
       "    </tr>\n",
       "    <tr>\n",
       "      <th>1</th>\n",
       "      <td>M1C</td>\n",
       "      <td>Scarborough</td>\n",
       "      <td>Highland Creek, Rouge Hill, Port Union</td>\n",
       "      <td>43.784535</td>\n",
       "      <td>-79.160497</td>\n",
       "    </tr>\n",
       "    <tr>\n",
       "      <th>2</th>\n",
       "      <td>M1E</td>\n",
       "      <td>Scarborough</td>\n",
       "      <td>Guildwood, Morningside, West Hill</td>\n",
       "      <td>43.763573</td>\n",
       "      <td>-79.188711</td>\n",
       "    </tr>\n",
       "    <tr>\n",
       "      <th>3</th>\n",
       "      <td>M1G</td>\n",
       "      <td>Scarborough</td>\n",
       "      <td>Woburn</td>\n",
       "      <td>43.770992</td>\n",
       "      <td>-79.216917</td>\n",
       "    </tr>\n",
       "    <tr>\n",
       "      <th>4</th>\n",
       "      <td>M1H</td>\n",
       "      <td>Scarborough</td>\n",
       "      <td>Cedarbrae</td>\n",
       "      <td>43.773136</td>\n",
       "      <td>-79.239476</td>\n",
       "    </tr>\n",
       "  </tbody>\n",
       "</table>\n",
       "</div>"
      ],
      "text/plain": [
       "  PostalCode      Borough                            Neighborhood   Latitude  \\\n",
       "0        M1B  Scarborough                          Rouge, Malvern  43.806686   \n",
       "1        M1C  Scarborough  Highland Creek, Rouge Hill, Port Union  43.784535   \n",
       "2        M1E  Scarborough       Guildwood, Morningside, West Hill  43.763573   \n",
       "3        M1G  Scarborough                                  Woburn  43.770992   \n",
       "4        M1H  Scarborough                               Cedarbrae  43.773136   \n",
       "\n",
       "   Longitude  \n",
       "0 -79.194353  \n",
       "1 -79.160497  \n",
       "2 -79.188711  \n",
       "3 -79.216917  \n",
       "4 -79.239476  "
      ]
     },
     "execution_count": 10,
     "metadata": {},
     "output_type": "execute_result"
    }
   ],
   "source": [
    "geodata['PostalCode'] = geodata['PostalCode'].apply(str)\n",
    "grouped['PostalCode'] = grouped['PostalCode'].apply(str)\n",
    "merged = grouped.merge(geodata, on=['PostalCode'])\n",
    "merged.head()"
   ]
  },
  {
   "cell_type": "markdown",
   "metadata": {},
   "source": [
    "# Section 3: Explore and cluster neighborhoods"
   ]
  },
  {
   "cell_type": "markdown",
   "metadata": {},
   "source": [
    "### You can decide to work with only boroughs that contain the word Toronto"
   ]
  },
  {
   "cell_type": "code",
   "execution_count": 11,
   "metadata": {},
   "outputs": [],
   "source": [
    "tordata = merged[merged['Borough'].str.contains('Toronto')]"
   ]
  },
  {
   "cell_type": "markdown",
   "metadata": {},
   "source": [
    "### Then replicate the same analysis we did to the New York City data."
   ]
  },
  {
   "cell_type": "code",
   "execution_count": 12,
   "metadata": {},
   "outputs": [],
   "source": [
    "import folium\n",
    "from geopy.geocoders import Nominatim\n",
    "from pandas.io.json import json_normalize\n",
    "import requests\n",
    "from sklearn.cluster import KMeans\n",
    "import matplotlib.cm as cm\n",
    "import matplotlib.colors as colors"
   ]
  },
  {
   "cell_type": "code",
   "execution_count": 13,
   "metadata": {},
   "outputs": [
    {
     "name": "stdout",
     "output_type": "stream",
     "text": [
      "The geograpical coordinate of Toronto are 43.6781255, -79.3821235335026.\n"
     ]
    },
    {
     "data": {
      "text/html": [
       "<div style=\"width:100%;\"><div style=\"position:relative;width:100%;height:0;padding-bottom:60%;\"><iframe src=\"data:text/html;charset=utf-8;base64,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\" style=\"position:absolute;width:100%;height:100%;left:0;top:0;border:none !important;\" allowfullscreen webkitallowfullscreen mozallowfullscreen></iframe></div></div>"
      ],
      "text/plain": [
       "<folium.folium.Map at 0x11ea53278>"
      ]
     },
     "execution_count": 13,
     "metadata": {},
     "output_type": "execute_result"
    }
   ],
   "source": [
    "address = 'Toronto, ONT'\n",
    "geolocator = Nominatim(user_agent=\"tor_explorer\")\n",
    "location = geolocator.geocode(address)\n",
    "latitude = location.latitude\n",
    "longitude = location.longitude\n",
    "#adjust\n",
    "longitude +=.25\n",
    "print(f'The geograpical coordinate of Toronto are {latitude}, {longitude}.')\n",
    "# create map of Toronto using latitude and longitude values\n",
    "map_toronto = folium.Map(location=[latitude, longitude], zoom_start=11)\n",
    "# add markers to map\n",
    "for lat, lng, borough, neighborhood in zip(tordata['Latitude'], \n",
    "                                           tordata['Longitude'], \n",
    "                                           tordata['Borough'], \n",
    "                                           tordata['Neighborhood']):\n",
    "    label = '{}, {}'.format(neighborhood, borough)\n",
    "    label = folium.Popup(label, parse_html=True)\n",
    "    folium.CircleMarker(\n",
    "        [lat, lng],\n",
    "        radius=5,\n",
    "        popup=label,\n",
    "        color='blue',\n",
    "        fill=True,\n",
    "        fill_color='#3186cc',\n",
    "        fill_opacity=0.7,\n",
    "        parse_html=False).add_to(map_toronto)\n",
    "map_toronto"
   ]
  },
  {
   "cell_type": "markdown",
   "metadata": {},
   "source": [
    "### Next, we are going to start utilizing the Foursquare API to explore the neighborhoods and segment them."
   ]
  },
  {
   "cell_type": "markdown",
   "metadata": {},
   "source": [
    "#### Credentials"
   ]
  },
  {
   "cell_type": "code",
   "execution_count": 14,
   "metadata": {},
   "outputs": [],
   "source": [
    "with open('/Users/kutch/Desktop/IBM/foursquarecreds.txt') as f:\n",
    "    fsq = f.read()\n",
    "client_id = re.search(\"(?<=CLIENT_ID)[ =]+'([A-Z0-9]+)\", fsq).group(1)\n",
    "client_secret = re.search(\"(?<=CLIENT_SECRET)[ =]+'([A-Z0-9]+)\", fsq).group(1)\n",
    "#not sure if coursera wants me to update this or not\n",
    "VERSION = '20180605' # Foursquare API version"
   ]
  },
  {
   "cell_type": "code",
   "execution_count": 15,
   "metadata": {},
   "outputs": [],
   "source": [
    "#from foursquare\n",
    "#function that extracts the category of the venue\n",
    "def get_category_type(row):\n",
    "    try:\n",
    "        categories_list = row['categories']\n",
    "    except:\n",
    "        categories_list = row['venue.categories']\n",
    "        \n",
    "    if len(categories_list) == 0:\n",
    "        return None\n",
    "    else:\n",
    "        return categories_list[0]['name']"
   ]
  },
  {
   "cell_type": "markdown",
   "metadata": {},
   "source": [
    "#### Get all venues"
   ]
  },
  {
   "cell_type": "code",
   "execution_count": 16,
   "metadata": {},
   "outputs": [],
   "source": [
    "#for a given list of neighborhoods\n",
    "def get_nearby_venues(neighborhoods, latitudes, longitudes):\n",
    "    radius, limit = 500, 100\n",
    "    global client_id, client_secret \n",
    "    venues_list=[]\n",
    "    for name, lat, lng in zip(neighborhoods, latitudes, longitudes):\n",
    "        # create the API request URL\n",
    "        url = f'https://api.foursquare.com/v2/venues/explore?&client_id={client_id}&client_secret={client_secret}&v={VERSION}&ll={lat},{lng}&radius={radius}&limit={limit}'\n",
    "        # make the GET request\n",
    "        results = requests.get(url).json()[\"response\"]['groups'][0]['items']\n",
    "        # return only relevant information for each nearby venue\n",
    "        venues_list.append([(\n",
    "            name, \n",
    "            lat, \n",
    "            lng, \n",
    "            v['venue']['name'], \n",
    "            v['venue']['location']['lat'], \n",
    "            v['venue']['location']['lng'],  \n",
    "            v['venue']['categories'][0]['name']) for v in results])\n",
    "    nearby_venues = pd.DataFrame([item for venue_list in venues_list for item in venue_list])\n",
    "    nearby_venues.columns = ['Neighborhood', \n",
    "                  'Neighborhood Latitude', \n",
    "                  'Neighborhood Longitude', \n",
    "                  'Venue', \n",
    "                  'Venue Latitude', \n",
    "                  'Venue Longitude', \n",
    "                  'Venue Category']\n",
    "    return(nearby_venues)\n",
    "\n",
    "toronto_venues = get_nearby_venues(neighborhoods=tordata['Neighborhood'], latitudes=tordata['Latitude'], longitudes=tordata['Longitude'])"
   ]
  },
  {
   "cell_type": "markdown",
   "metadata": {},
   "source": [
    "#### Categorize venues"
   ]
  },
  {
   "cell_type": "code",
   "execution_count": 17,
   "metadata": {},
   "outputs": [],
   "source": [
    "toronto_onehot = pd.get_dummies(toronto_venues[['Venue Category']], prefix=\"\", prefix_sep=\"\")\n",
    "toronto_onehot = toronto_onehot.drop(columns=['Neighborhood'], axis=1)\n",
    "toronto_onehot.insert(loc=0, \n",
    "                      column='Neighborhood', \n",
    "                      value=toronto_venues['Neighborhood'])\n",
    "#find mean frequency of categories by neighborhood\n",
    "toronto_grouped = toronto_onehot.groupby('Neighborhood').mean().reset_index()"
   ]
  },
  {
   "cell_type": "markdown",
   "metadata": {},
   "source": [
    "#### Most common categories per neighborhood"
   ]
  },
  {
   "cell_type": "code",
   "execution_count": 18,
   "metadata": {},
   "outputs": [],
   "source": [
    "def return_most_common_venues(row, num_top_venues):\n",
    "    row_categories = row.iloc[1:]\n",
    "    row_categories_sorted = row_categories.sort_values(ascending=False)\n",
    "    return row_categories_sorted.index.values[0:num_top_venues]\n",
    "def get_common_venues(location_df):\n",
    "    num_top_venues = 10\n",
    "    indicators = {1:'st', 2:'nd', 3:'rd'}\n",
    "    indicators.update(dict((el,'th') for el in range(4, num_top_venues+1)))\n",
    "    cols = ['Neighborhood']\n",
    "    for num, ind in indicators.items():\n",
    "        cols.append(f'{num}{ind} Most Common Venue')\n",
    "    neighborhoods_venues_sorted = pd.DataFrame(columns=cols)\n",
    "    neighborhoods_venues_sorted['Neighborhood'] = location_df['Neighborhood']\n",
    "    for ind in np.arange(location_df.shape[0]):\n",
    "        neighborhoods_venues_sorted.iloc[ind, 1:] = return_most_common_venues(location_df.iloc[ind, :], num_top_venues)\n",
    "    return neighborhoods_venues_sorted\n",
    "\n",
    "neighborhoods_venues_sorted = get_common_venues(toronto_grouped)"
   ]
  },
  {
   "cell_type": "markdown",
   "metadata": {},
   "source": [
    "#### Cluster model"
   ]
  },
  {
   "cell_type": "code",
   "execution_count": 19,
   "metadata": {},
   "outputs": [],
   "source": [
    "kclusters = 5\n",
    "toronto_grouped_clustering = toronto_grouped.drop('Neighborhood', 1)\n",
    "kmeans = KMeans(n_clusters=kclusters, random_state=0).fit(toronto_grouped_clustering)\n",
    "# add clustering labels\n",
    "neighborhoods_venues_sorted.insert(0, 'Cluster Labels', kmeans.labels_)\n",
    "toronto_merged = tordata\n",
    "toronto_merged = toronto_merged.join(neighborhoods_venues_sorted.set_index('Neighborhood'),on='Neighborhood')"
   ]
  },
  {
   "cell_type": "markdown",
   "metadata": {},
   "source": [
    "#### Visualize the clusters"
   ]
  },
  {
   "cell_type": "code",
   "execution_count": 20,
   "metadata": {
    "scrolled": true
   },
   "outputs": [
    {
     "data": {
      "text/html": [
       "<div style=\"width:100%;\"><div style=\"position:relative;width:100%;height:0;padding-bottom:60%;\"><iframe src=\"data:text/html;charset=utf-8;base64,PCFET0NUWVBFIGh0bWw+CjxoZWFkPiAgICAKICAgIDxtZXRhIGh0dHAtZXF1aXY9ImNvbnRlbnQtdHlwZSIgY29udGVudD0idGV4dC9odG1sOyBjaGFyc2V0PVVURi04IiAvPgogICAgCiAgICAgICAgPHNjcmlwdD4KICAgICAgICAgICAgTF9OT19UT1VDSCA9IGZhbHNlOwogICAgICAgICAgICBMX0RJU0FCTEVfM0QgPSBmYWxzZTsKICAgICAgICA8L3NjcmlwdD4KICAgIAogICAgPHNjcmlwdCBzcmM9Imh0dHBzOi8vY2RuLmpzZGVsaXZyLm5ldC9ucG0vbGVhZmxldEAxLjQuMC9kaXN0L2xlYWZsZXQuanMiPjwvc2NyaXB0PgogICAgPHNjcmlwdCBzcmM9Imh0dHBzOi8vY29kZS5qcXVlcnkuY29tL2pxdWVyeS0xLjEyLjQubWluLmpzIj48L3NjcmlwdD4KICAgIDxzY3JpcHQgc3JjPSJodHRwczovL21heGNkbi5ib290c3RyYXBjZG4uY29tL2Jvb3RzdHJhcC8zLjIuMC9qcy9ib290c3RyYXAubWluLmpzIj48L3NjcmlwdD4KICAgIDxzY3JpcHQgc3JjPSJodHRwczovL2NkbmpzLmNsb3VkZmxhcmUuY29tL2FqYXgvbGlicy9MZWFmbGV0LmF3ZXNvbWUtbWFya2Vycy8yLjAuMi9sZWFmbGV0LmF3ZXNvbWUtbWFya2Vycy5qcyI+PC9zY3JpcHQ+CiAgICA8bGluayByZWw9InN0eWxlc2hlZXQiIGhyZWY9Imh0dHBzOi8vY2RuLmpzZGVsaXZyLm5ldC9ucG0vbGVhZmxldEAxLjQuMC9kaXN0L2xlYWZsZXQuY3NzIi8+CiAgICA8bGluayByZWw9InN0eWxlc2hlZXQiIGhyZWY9Imh0dHBzOi8vbWF4Y2RuLmJvb3RzdHJhcGNkbi5jb20vYm9vdHN0cmFwLzMuMi4wL2Nzcy9ib290c3RyYXAubWluLmNzcyIvPgogICAgPGxpbmsgcmVsPSJzdHlsZXNoZWV0IiBocmVmPSJodHRwczovL21heGNkbi5ib290c3RyYXBjZG4uY29tL2Jvb3RzdHJhcC8zLjIuMC9jc3MvYm9vdHN0cmFwLXRoZW1lLm1pbi5jc3MiLz4KICAgIDxsaW5rIHJlbD0ic3R5bGVzaGVldCIgaHJlZj0iaHR0cHM6Ly9tYXhjZG4uYm9vdHN0cmFwY2RuLmNvbS9mb250LWF3ZXNvbWUvNC42LjMvY3NzL2ZvbnQtYXdlc29tZS5taW4uY3NzIi8+CiAgICA8bGluayByZWw9InN0eWxlc2hlZXQiIGhyZWY9Imh0dHBzOi8vY2RuanMuY2xvdWRmbGFyZS5jb20vYWpheC9saWJzL0xlYWZsZXQuYXdlc29tZS1tYXJrZXJzLzIuMC4yL2xlYWZsZXQuYXdlc29tZS1tYXJrZXJzLmNzcyIvPgogICAgPGxpbmsgcmVsPSJzdHlsZXNoZWV0IiBocmVmPSJodHRwczovL3Jhd2Nkbi5naXRoYWNrLmNvbS9weXRob24tdmlzdWFsaXphdGlvbi9mb2xpdW0vbWFzdGVyL2ZvbGl1bS90ZW1wbGF0ZXMvbGVhZmxldC5hd2Vzb21lLnJvdGF0ZS5jc3MiLz4KICAgIDxzdHlsZT5odG1sLCBib2R5IHt3aWR0aDogMTAwJTtoZWlnaHQ6IDEwMCU7bWFyZ2luOiAwO3BhZGRpbmc6IDA7fTwvc3R5bGU+CiAgICA8c3R5bGU+I21hcCB7cG9zaXRpb246YWJzb2x1dGU7dG9wOjA7Ym90dG9tOjA7cmlnaHQ6MDtsZWZ0OjA7fTwvc3R5bGU+CiAgICAKICAgICAgICAgICAgPG1ldGEgbmFtZT0idmlld3BvcnQiIGNvbnRlbnQ9IndpZHRoPWRldmljZS13aWR0aCwKICAgICAgICAgICAgICAgIGluaXRpYWwtc2NhbGU9MS4wLCBtYXhpbXVtLXNjYWxlPTEuMCwgdXNlci1zY2FsYWJsZT1ubyIgLz4KICAgICAgICAgICAgPHN0eWxlPgogICAgICAgICAgICAgICAgI21hcF83M2ZjYTljN2YwYjk0NmZkOTc5YzQxNzljMTU2ODE2MyB7CiAgICAgICAgICAgICAgICAgICAgcG9zaXRpb246IHJlbGF0aXZlOwogICAgICAgICAgICAgICAgICAgIHdpZHRoOiAxMDAuMCU7CiAgICAgICAgICAgICAgICAgICAgaGVpZ2h0OiAxMDAuMCU7CiAgICAgICAgICAgICAgICAgICAgbGVmdDogMC4wJTsKICAgICAgICAgICAgICAgICAgICB0b3A6IDAuMCU7CiAgICAgICAgICAgICAgICB9CiAgICAgICAgICAgIDwvc3R5bGU+CiAgICAgICAgCjwvaGVhZD4KPGJvZHk+ICAgIAogICAgCiAgICAgICAgICAgIDxkaXYgY2xhc3M9ImZvbGl1bS1tYXAiIGlkPSJtYXBfNzNmY2E5YzdmMGI5NDZmZDk3OWM0MTc5YzE1NjgxNjMiID48L2Rpdj4KICAgICAgICAKPC9ib2R5Pgo8c2NyaXB0PiAgICAKICAgIAogICAgICAgICAgICB2YXIgbWFwXzczZmNhOWM3ZjBiOTQ2ZmQ5NzljNDE3OWMxNTY4MTYzID0gTC5tYXAoCiAgICAgICAgICAgICAgICAibWFwXzczZmNhOWM3ZjBiOTQ2ZmQ5NzljNDE3OWMxNTY4MTYzIiwKICAgICAgICAgICAgICAgIHsKICAgICAgICAgICAgICAgICAgICBjZW50ZXI6IFs0My42NzgxMjU1LCAtNzkuMzgyMTIzNTMzNTAyNl0sCiAgICAgICAgICAgICAgICAgICAgY3JzOiBMLkNSUy5FUFNHMzg1NywKICAgICAgICAgICAgICAgICAgICB6b29tOiAxMSwKICAgICAgICAgICAgICAgICAgICB6b29tQ29udHJvbDogdHJ1ZSwKICAgICAgICAgICAgICAgICAgICBwcmVmZXJDYW52YXM6IGZhbHNlLAogICAgICAgICAgICAgICAgfQogICAgICAgICAgICApOwoKICAgICAgICAgICAgCgogICAgICAgIAogICAgCiAgICAgICAgICAgIHZhciB0aWxlX2xheWVyX2EwZDFlODM5MGYyMTQ3ZDU4NDQ0NzUzNzE5ZWJlMDY1ID0gTC50aWxlTGF5ZXIoCiAgICAgICAgICAgICAgICAiaHR0cHM6Ly97c30udGlsZS5vcGVuc3RyZWV0bWFwLm9yZy97en0ve3h9L3t5fS5wbmciLAogICAgICAgICAgICAgICAgeyJhdHRyaWJ1dGlvbiI6ICJEYXRhIGJ5IFx1MDAyNmNvcHk7IFx1MDAzY2EgaHJlZj1cImh0dHA6Ly9vcGVuc3RyZWV0bWFwLm9yZ1wiXHUwMDNlT3BlblN0cmVldE1hcFx1MDAzYy9hXHUwMDNlLCB1bmRlciBcdTAwM2NhIGhyZWY9XCJodHRwOi8vd3d3Lm9wZW5zdHJlZXRtYXAub3JnL2NvcHlyaWdodFwiXHUwMDNlT0RiTFx1MDAzYy9hXHUwMDNlLiIsICJkZXRlY3RSZXRpbmEiOiBmYWxzZSwgIm1heE5hdGl2ZVpvb20iOiAxOCwgIm1heFpvb20iOiAxOCwgIm1pblpvb20iOiAwLCAibm9XcmFwIjogZmFsc2UsICJvcGFjaXR5IjogMSwgInN1YmRvbWFpbnMiOiAiYWJjIiwgInRtcyI6IGZhbHNlfQogICAgICAgICAgICApLmFkZFRvKG1hcF83M2ZjYTljN2YwYjk0NmZkOTc5YzQxNzljMTU2ODE2Myk7CiAgICAgICAgCiAgICAKICAgICAgICAgICAgdmFyIGNpcmNsZV9tYXJrZXJfODQ0NzJkMTBlMDc5NGVhOGI3MTVjMGE1YWZkOTRjMmYgPSBMLmNpcmNsZU1hcmtlcigKICAgICAgICAgICAgICAgIFs0My42NzYzNTczOTk5OTk5OSwgLTc5LjI5MzAzMTJdLAogICAgICAgICAgICAgICAgeyJidWJibGluZ01vdXNlRXZlbnRzIjogdHJ1ZSwgImNvbG9yIjogIiM4MGZmYjQiLCAiZGFzaEFycmF5IjogbnVsbCwgImRhc2hPZmZzZXQiOiBudWxsLCAiZmlsbCI6IHRydWUsICJmaWxsQ29sb3IiOiAiIzgwZmZiNCIsICJmaWxsT3BhY2l0eSI6IDAuNywgImZpbGxSdWxlIjogImV2ZW5vZGQiLCAibGluZUNhcCI6ICJyb3VuZCIsICJsaW5lSm9pbiI6ICJyb3VuZCIsICJvcGFjaXR5IjogMS4wLCAicmFkaXVzIjogNSwgInN0cm9rZSI6IHRydWUsICJ3ZWlnaHQiOiAzfQogICAgICAgICAgICApLmFkZFRvKG1hcF83M2ZjYTljN2YwYjk0NmZkOTc5YzQxNzljMTU2ODE2Myk7CiAgICAgICAgCiAgICAKICAgICAgICB2YXIgcG9wdXBfNGYyYzA2YmEyMTYyNGMwNDhiOTI1NjZjZWQxMTAzYjcgPSBMLnBvcHVwKHsibWF4V2lkdGgiOiAiMTAwJSJ9KTsKCiAgICAgICAgCiAgICAgICAgICAgIHZhciBodG1sXzM2NTliOTdlMWI4MjRiYWE5NjcxNTU5ODU2ZTczOGUzID0gJChgPGRpdiBpZD0iaHRtbF8zNjU5Yjk3ZTFiODI0YmFhOTY3MTU1OTg1NmU3MzhlMyIgc3R5bGU9IndpZHRoOiAxMDAuMCU7IGhlaWdodDogMTAwLjAlOyI+VGhlIEJlYWNoZXMgQ2x1c3RlciAzPC9kaXY+YClbMF07CiAgICAgICAgICAgIHBvcHVwXzRmMmMwNmJhMjE2MjRjMDQ4YjkyNTY2Y2VkMTEwM2I3LnNldENvbnRlbnQoaHRtbF8zNjU5Yjk3ZTFiODI0YmFhOTY3MTU1OTg1NmU3MzhlMyk7CiAgICAgICAgCgogICAgICAgIGNpcmNsZV9tYXJrZXJfODQ0NzJkMTBlMDc5NGVhOGI3MTVjMGE1YWZkOTRjMmYuYmluZFBvcHVwKHBvcHVwXzRmMmMwNmJhMjE2MjRjMDQ4YjkyNTY2Y2VkMTEwM2I3KQogICAgICAgIDsKCiAgICAgICAgCiAgICAKICAgIAogICAgICAgICAgICB2YXIgY2lyY2xlX21hcmtlcl85MjVjZTU2MzY0MzE0NGY3OGJhNDI3M2Q2MWFjYWVmZCA9IEwuY2lyY2xlTWFya2VyKAogICAgICAgICAgICAgICAgWzQzLjY3OTU1NzEsIC03OS4zNTIxODhdLAogICAgICAgICAgICAgICAgeyJidWJibGluZ01vdXNlRXZlbnRzIjogdHJ1ZSwgImNvbG9yIjogIiM4MGZmYjQiLCAiZGFzaEFycmF5IjogbnVsbCwgImRhc2hPZmZzZXQiOiBudWxsLCAiZmlsbCI6IHRydWUsICJmaWxsQ29sb3IiOiAiIzgwZmZiNCIsICJmaWxsT3BhY2l0eSI6IDAuNywgImZpbGxSdWxlIjogImV2ZW5vZGQiLCAibGluZUNhcCI6ICJyb3VuZCIsICJsaW5lSm9pbiI6ICJyb3VuZCIsICJvcGFjaXR5IjogMS4wLCAicmFkaXVzIjogNSwgInN0cm9rZSI6IHRydWUsICJ3ZWlnaHQiOiAzfQogICAgICAgICAgICApLmFkZFRvKG1hcF83M2ZjYTljN2YwYjk0NmZkOTc5YzQxNzljMTU2ODE2Myk7CiAgICAgICAgCiAgICAKICAgICAgICB2YXIgcG9wdXBfMTI3ZTNkMDEyMDQ3NGE2Njk3ZjI2ZTU2MTA0YTExOWQgPSBMLnBvcHVwKHsibWF4V2lkdGgiOiAiMTAwJSJ9KTsKCiAgICAgICAgCiAgICAgICAgICAgIHZhciBodG1sXzViZGMzZTZlZjI0NTQzMTBhNzc0Y2QxNDY1ZDZkNmU2ID0gJChgPGRpdiBpZD0iaHRtbF81YmRjM2U2ZWYyNDU0MzEwYTc3NGNkMTQ2NWQ2ZDZlNiIgc3R5bGU9IndpZHRoOiAxMDAuMCU7IGhlaWdodDogMTAwLjAlOyI+VGhlIERhbmZvcnRoIFdlc3QsIFJpdmVyZGFsZSBDbHVzdGVyIDM8L2Rpdj5gKVswXTsKICAgICAgICAgICAgcG9wdXBfMTI3ZTNkMDEyMDQ3NGE2Njk3ZjI2ZTU2MTA0YTExOWQuc2V0Q29udGVudChodG1sXzViZGMzZTZlZjI0NTQzMTBhNzc0Y2QxNDY1ZDZkNmU2KTsKICAgICAgICAKCiAgICAgICAgY2lyY2xlX21hcmtlcl85MjVjZTU2MzY0MzE0NGY3OGJhNDI3M2Q2MWFjYWVmZC5iaW5kUG9wdXAocG9wdXBfMTI3ZTNkMDEyMDQ3NGE2Njk3ZjI2ZTU2MTA0YTExOWQpCiAgICAgICAgOwoKICAgICAgICAKICAgIAogICAgCiAgICAgICAgICAgIHZhciBjaXJjbGVfbWFya2VyXzQ1ZDRmMTQ4ZGUyYzRjZmU5MmNlMjIwODlmZDkxZWY1ID0gTC5jaXJjbGVNYXJrZXIoCiAgICAgICAgICAgICAgICBbNDMuNjY4OTk4NSwgLTc5LjMxNTU3MTU5OTk5OTk4XSwKICAgICAgICAgICAgICAgIHsiYnViYmxpbmdNb3VzZUV2ZW50cyI6IHRydWUsICJjb2xvciI6ICIjZmYwMDAwIiwgImRhc2hBcnJheSI6IG51bGwsICJkYXNoT2Zmc2V0IjogbnVsbCwgImZpbGwiOiB0cnVlLCAiZmlsbENvbG9yIjogIiNmZjAwMDAiLCAiZmlsbE9wYWNpdHkiOiAwLjcsICJmaWxsUnVsZSI6ICJldmVub2RkIiwgImxpbmVDYXAiOiAicm91bmQiLCAibGluZUpvaW4iOiAicm91bmQiLCAib3BhY2l0eSI6IDEuMCwgInJhZGl1cyI6IDUsICJzdHJva2UiOiB0cnVlLCAid2VpZ2h0IjogM30KICAgICAgICAgICAgKS5hZGRUbyhtYXBfNzNmY2E5YzdmMGI5NDZmZDk3OWM0MTc5YzE1NjgxNjMpOwogICAgICAgIAogICAgCiAgICAgICAgdmFyIHBvcHVwXzJmZGU1NGQxYzE4YzQyMmE4NjA0MzY0MjQwZjJhN2Y5ID0gTC5wb3B1cCh7Im1heFdpZHRoIjogIjEwMCUifSk7CgogICAgICAgIAogICAgICAgICAgICB2YXIgaHRtbF80NTcxZWJmNmY2M2Y0MzU4OTk5OTUyY2E4OWIyMDA0NiA9ICQoYDxkaXYgaWQ9Imh0bWxfNDU3MWViZjZmNjNmNDM1ODk5OTk1MmNhODliMjAwNDYiIHN0eWxlPSJ3aWR0aDogMTAwLjAlOyBoZWlnaHQ6IDEwMC4wJTsiPlRoZSBCZWFjaGVzIFdlc3QsIEluZGlhIEJhemFhciBDbHVzdGVyIDA8L2Rpdj5gKVswXTsKICAgICAgICAgICAgcG9wdXBfMmZkZTU0ZDFjMThjNDIyYTg2MDQzNjQyNDBmMmE3Zjkuc2V0Q29udGVudChodG1sXzQ1NzFlYmY2ZjYzZjQzNTg5OTk5NTJjYTg5YjIwMDQ2KTsKICAgICAgICAKCiAgICAgICAgY2lyY2xlX21hcmtlcl80NWQ0ZjE0OGRlMmM0Y2ZlOTJjZTIyMDg5ZmQ5MWVmNS5iaW5kUG9wdXAocG9wdXBfMmZkZTU0ZDFjMThjNDIyYTg2MDQzNjQyNDBmMmE3ZjkpCiAgICAgICAgOwoKICAgICAgICAKICAgIAogICAgCiAgICAgICAgICAgIHZhciBjaXJjbGVfbWFya2VyXzQ2NDA1NWEzZTIxNzQxMDdiZDZmZjRjM2MyMjRmZTFhID0gTC5jaXJjbGVNYXJrZXIoCiAgICAgICAgICAgICAgICBbNDMuNjU5NTI1NSwgLTc5LjM0MDkyM10sCiAgICAgICAgICAgICAgICB7ImJ1YmJsaW5nTW91c2VFdmVudHMiOiB0cnVlLCAiY29sb3IiOiAiIzgwZmZiNCIsICJkYXNoQXJyYXkiOiBudWxsLCAiZGFzaE9mZnNldCI6IG51bGwsICJmaWxsIjogdHJ1ZSwgImZpbGxDb2xvciI6ICIjODBmZmI0IiwgImZpbGxPcGFjaXR5IjogMC43LCAiZmlsbFJ1bGUiOiAiZXZlbm9kZCIsICJsaW5lQ2FwIjogInJvdW5kIiwgImxpbmVKb2luIjogInJvdW5kIiwgIm9wYWNpdHkiOiAxLjAsICJyYWRpdXMiOiA1LCAic3Ryb2tlIjogdHJ1ZSwgIndlaWdodCI6IDN9CiAgICAgICAgICAgICkuYWRkVG8obWFwXzczZmNhOWM3ZjBiOTQ2ZmQ5NzljNDE3OWMxNTY4MTYzKTsKICAgICAgICAKICAgIAogICAgICAgIHZhciBwb3B1cF8wMzM2YWI2NGQyMzA0ODFiYmU4YTNlNTgzOGI2MDUzYyA9IEwucG9wdXAoeyJtYXhXaWR0aCI6ICIxMDAlIn0pOwoKICAgICAgICAKICAgICAgICAgICAgdmFyIGh0bWxfNzdhMjUwYjZhYzY3NDUxMjkyMTI0NjhkNDZmMWUwMmEgPSAkKGA8ZGl2IGlkPSJodG1sXzc3YTI1MGI2YWM2NzQ1MTI5MjEyNDY4ZDQ2ZjFlMDJhIiBzdHlsZT0id2lkdGg6IDEwMC4wJTsgaGVpZ2h0OiAxMDAuMCU7Ij5TdHVkaW8gRGlzdHJpY3QgQ2x1c3RlciAzPC9kaXY+YClbMF07CiAgICAgICAgICAgIHBvcHVwXzAzMzZhYjY0ZDIzMDQ4MWJiZThhM2U1ODM4YjYwNTNjLnNldENvbnRlbnQoaHRtbF83N2EyNTBiNmFjNjc0NTEyOTIxMjQ2OGQ0NmYxZTAyYSk7CiAgICAgICAgCgogICAgICAgIGNpcmNsZV9tYXJrZXJfNDY0MDU1YTNlMjE3NDEwN2JkNmZmNGMzYzIyNGZlMWEuYmluZFBvcHVwKHBvcHVwXzAzMzZhYjY0ZDIzMDQ4MWJiZThhM2U1ODM4YjYwNTNjKQogICAgICAgIDsKCiAgICAgICAgCiAgICAKICAgIAogICAgICAgICAgICB2YXIgY2lyY2xlX21hcmtlcl9hOGM5YzQyMmNjYzM0MTc0OWZjZDZhMGM4MzI4MjkyYiA9IEwuY2lyY2xlTWFya2VyKAogICAgICAgICAgICAgICAgWzQzLjcyODAyMDUsIC03OS4zODg3OTAxXSwKICAgICAgICAgICAgICAgIHsiYnViYmxpbmdNb3VzZUV2ZW50cyI6IHRydWUsICJjb2xvciI6ICIjMDBiNWViIiwgImRhc2hBcnJheSI6IG51bGwsICJkYXNoT2Zmc2V0IjogbnVsbCwgImZpbGwiOiB0cnVlLCAiZmlsbENvbG9yIjogIiMwMGI1ZWIiLCAiZmlsbE9wYWNpdHkiOiAwLjcsICJmaWxsUnVsZSI6ICJldmVub2RkIiwgImxpbmVDYXAiOiAicm91bmQiLCAibGluZUpvaW4iOiAicm91bmQiLCAib3BhY2l0eSI6IDEuMCwgInJhZGl1cyI6IDUsICJzdHJva2UiOiB0cnVlLCAid2VpZ2h0IjogM30KICAgICAgICAgICAgKS5hZGRUbyhtYXBfNzNmY2E5YzdmMGI5NDZmZDk3OWM0MTc5YzE1NjgxNjMpOwogICAgICAgIAogICAgCiAgICAgICAgdmFyIHBvcHVwX2MwMzBmM2U3YzdhMTQ1MDViMzdiMmQwYWUyMzM0NzgwID0gTC5wb3B1cCh7Im1heFdpZHRoIjogIjEwMCUifSk7CgogICAgICAgIAogICAgICAgICAgICB2YXIgaHRtbF8zMDQ3NTEyMWZiNGM0NjFlYmY3MmVlNzM3M2U5NTU1ZSA9ICQoYDxkaXYgaWQ9Imh0bWxfMzA0NzUxMjFmYjRjNDYxZWJmNzJlZTczNzNlOTU1NWUiIHN0eWxlPSJ3aWR0aDogMTAwLjAlOyBoZWlnaHQ6IDEwMC4wJTsiPkxhd3JlbmNlIFBhcmsgQ2x1c3RlciAyPC9kaXY+YClbMF07CiAgICAgICAgICAgIHBvcHVwX2MwMzBmM2U3YzdhMTQ1MDViMzdiMmQwYWUyMzM0NzgwLnNldENvbnRlbnQoaHRtbF8zMDQ3NTEyMWZiNGM0NjFlYmY3MmVlNzM3M2U5NTU1ZSk7CiAgICAgICAgCgogICAgICAgIGNpcmNsZV9tYXJrZXJfYThjOWM0MjJjY2MzNDE3NDlmY2Q2YTBjODMyODI5MmIuYmluZFBvcHVwKHBvcHVwX2MwMzBmM2U3YzdhMTQ1MDViMzdiMmQwYWUyMzM0NzgwKQogICAgICAgIDsKCiAgICAgICAgCiAgICAKICAgIAogICAgICAgICAgICB2YXIgY2lyY2xlX21hcmtlcl9jYjE4NGQ5MjVhMzg0YWViOTk1NWJmMGZiMTZmZmI0YSA9IEwuY2lyY2xlTWFya2VyKAogICAgICAgICAgICAgICAgWzQzLjcxMjc1MTEsIC03OS4zOTAxOTc1XSwKICAgICAgICAgICAgICAgIHsiYnViYmxpbmdNb3VzZUV2ZW50cyI6IHRydWUsICJjb2xvciI6ICIjZmYwMDAwIiwgImRhc2hBcnJheSI6IG51bGwsICJkYXNoT2Zmc2V0IjogbnVsbCwgImZpbGwiOiB0cnVlLCAiZmlsbENvbG9yIjogIiNmZjAwMDAiLCAiZmlsbE9wYWNpdHkiOiAwLjcsICJmaWxsUnVsZSI6ICJldmVub2RkIiwgImxpbmVDYXAiOiAicm91bmQiLCAibGluZUpvaW4iOiAicm91bmQiLCAib3BhY2l0eSI6IDEuMCwgInJhZGl1cyI6IDUsICJzdHJva2UiOiB0cnVlLCAid2VpZ2h0IjogM30KICAgICAgICAgICAgKS5hZGRUbyhtYXBfNzNmY2E5YzdmMGI5NDZmZDk3OWM0MTc5YzE1NjgxNjMpOwogICAgICAgIAogICAgCiAgICAgICAgdmFyIHBvcHVwX2ZhMjhkMzU4ODkxYzQwM2Q4OTdjYzhkN2QxM2E5M2U3ID0gTC5wb3B1cCh7Im1heFdpZHRoIjogIjEwMCUifSk7CgogICAgICAgIAogICAgICAgICAgICB2YXIgaHRtbF8xNzAyNzEwMjI1YmY0NzM3YjhlMTcyNzI5YmQ1ZDFkNyA9ICQoYDxkaXYgaWQ9Imh0bWxfMTcwMjcxMDIyNWJmNDczN2I4ZTE3MjcyOWJkNWQxZDciIHN0eWxlPSJ3aWR0aDogMTAwLjAlOyBoZWlnaHQ6IDEwMC4wJTsiPkRhdmlzdmlsbGUgTm9ydGggQ2x1c3RlciAwPC9kaXY+YClbMF07CiAgICAgICAgICAgIHBvcHVwX2ZhMjhkMzU4ODkxYzQwM2Q4OTdjYzhkN2QxM2E5M2U3LnNldENvbnRlbnQoaHRtbF8xNzAyNzEwMjI1YmY0NzM3YjhlMTcyNzI5YmQ1ZDFkNyk7CiAgICAgICAgCgogICAgICAgIGNpcmNsZV9tYXJrZXJfY2IxODRkOTI1YTM4NGFlYjk5NTViZjBmYjE2ZmZiNGEuYmluZFBvcHVwKHBvcHVwX2ZhMjhkMzU4ODkxYzQwM2Q4OTdjYzhkN2QxM2E5M2U3KQogICAgICAgIDsKCiAgICAgICAgCiAgICAKICAgIAogICAgICAgICAgICB2YXIgY2lyY2xlX21hcmtlcl9kN2ExMzU2OTVkOTM0NzBhOGY1NTg0ZWI2MmJiM2QyZSA9IEwuY2lyY2xlTWFya2VyKAogICAgICAgICAgICAgICAgWzQzLjcxNTM4MzQsIC03OS40MDU2Nzg0MDAwMDAwMV0sCiAgICAgICAgICAgICAgICB7ImJ1YmJsaW5nTW91c2VFdmVudHMiOiB0cnVlLCAiY29sb3IiOiAiIzgwZmZiNCIsICJkYXNoQXJyYXkiOiBudWxsLCAiZGFzaE9mZnNldCI6IG51bGwsICJmaWxsIjogdHJ1ZSwgImZpbGxDb2xvciI6ICIjODBmZmI0IiwgImZpbGxPcGFjaXR5IjogMC43LCAiZmlsbFJ1bGUiOiAiZXZlbm9kZCIsICJsaW5lQ2FwIjogInJvdW5kIiwgImxpbmVKb2luIjogInJvdW5kIiwgIm9wYWNpdHkiOiAxLjAsICJyYWRpdXMiOiA1LCAic3Ryb2tlIjogdHJ1ZSwgIndlaWdodCI6IDN9CiAgICAgICAgICAgICkuYWRkVG8obWFwXzczZmNhOWM3ZjBiOTQ2ZmQ5NzljNDE3OWMxNTY4MTYzKTsKICAgICAgICAKICAgIAogICAgICAgIHZhciBwb3B1cF82ZWU0OWIxOTZlYmI0NzI1YjQwZjk0ZDNkOTY2OWM4YyA9IEwucG9wdXAoeyJtYXhXaWR0aCI6ICIxMDAlIn0pOwoKICAgICAgICAKICAgICAgICAgICAgdmFyIGh0bWxfOTgwNjYzZDYyNDExNDY2ZTkyNWU4YzgyN2YzNTg5MTcgPSAkKGA8ZGl2IGlkPSJodG1sXzk4MDY2M2Q2MjQxMTQ2NmU5MjVlOGM4MjdmMzU4OTE3IiBzdHlsZT0id2lkdGg6IDEwMC4wJTsgaGVpZ2h0OiAxMDAuMCU7Ij5Ob3J0aCBUb3JvbnRvIFdlc3QgQ2x1c3RlciAzPC9kaXY+YClbMF07CiAgICAgICAgICAgIHBvcHVwXzZlZTQ5YjE5NmViYjQ3MjViNDBmOTRkM2Q5NjY5YzhjLnNldENvbnRlbnQoaHRtbF85ODA2NjNkNjI0MTE0NjZlOTI1ZThjODI3ZjM1ODkxNyk7CiAgICAgICAgCgogICAgICAgIGNpcmNsZV9tYXJrZXJfZDdhMTM1Njk1ZDkzNDcwYThmNTU4NGViNjJiYjNkMmUuYmluZFBvcHVwKHBvcHVwXzZlZTQ5YjE5NmViYjQ3MjViNDBmOTRkM2Q5NjY5YzhjKQogICAgICAgIDsKCiAgICAgICAgCiAgICAKICAgIAogICAgICAgICAgICB2YXIgY2lyY2xlX21hcmtlcl84NGQ4YTNiNzI3ZDY0YjkxYjY2ODhjNDlkODY2NTc1OSA9IEwuY2lyY2xlTWFya2VyKAogICAgICAgICAgICAgICAgWzQzLjcwNDMyNDQsIC03OS4zODg3OTAxXSwKICAgICAgICAgICAgICAgIHsiYnViYmxpbmdNb3VzZUV2ZW50cyI6IHRydWUsICJjb2xvciI6ICIjODBmZmI0IiwgImRhc2hBcnJheSI6IG51bGwsICJkYXNoT2Zmc2V0IjogbnVsbCwgImZpbGwiOiB0cnVlLCAiZmlsbENvbG9yIjogIiM4MGZmYjQiLCAiZmlsbE9wYWNpdHkiOiAwLjcsICJmaWxsUnVsZSI6ICJldmVub2RkIiwgImxpbmVDYXAiOiAicm91bmQiLCAibGluZUpvaW4iOiAicm91bmQiLCAib3BhY2l0eSI6IDEuMCwgInJhZGl1cyI6IDUsICJzdHJva2UiOiB0cnVlLCAid2VpZ2h0IjogM30KICAgICAgICAgICAgKS5hZGRUbyhtYXBfNzNmY2E5YzdmMGI5NDZmZDk3OWM0MTc5YzE1NjgxNjMpOwogICAgICAgIAogICAgCiAgICAgICAgdmFyIHBvcHVwX2ViMThmMDM4ZjA2ZjRjMDlhZTVkZGExZDUzYjI0ZDJhID0gTC5wb3B1cCh7Im1heFdpZHRoIjogIjEwMCUifSk7CgogICAgICAgIAogICAgICAgICAgICB2YXIgaHRtbF9jNThlNThiOTdlNjc0NjU5YTAxZTM0YTJhMmM2YmRmMCA9ICQoYDxkaXYgaWQ9Imh0bWxfYzU4ZTU4Yjk3ZTY3NDY1OWEwMWUzNGEyYTJjNmJkZjAiIHN0eWxlPSJ3aWR0aDogMTAwLjAlOyBoZWlnaHQ6IDEwMC4wJTsiPkRhdmlzdmlsbGUgQ2x1c3RlciAzPC9kaXY+YClbMF07CiAgICAgICAgICAgIHBvcHVwX2ViMThmMDM4ZjA2ZjRjMDlhZTVkZGExZDUzYjI0ZDJhLnNldENvbnRlbnQoaHRtbF9jNThlNThiOTdlNjc0NjU5YTAxZTM0YTJhMmM2YmRmMCk7CiAgICAgICAgCgogICAgICAgIGNpcmNsZV9tYXJrZXJfODRkOGEzYjcyN2Q2NGI5MWI2Njg4YzQ5ZDg2NjU3NTkuYmluZFBvcHVwKHBvcHVwX2ViMThmMDM4ZjA2ZjRjMDlhZTVkZGExZDUzYjI0ZDJhKQogICAgICAgIDsKCiAgICAgICAgCiAgICAKICAgIAogICAgICAgICAgICB2YXIgY2lyY2xlX21hcmtlcl8wYTljMDIwYzY4NGQ0Y2I3OGRiOGI1YTU5ODQ1MDYyZiA9IEwuY2lyY2xlTWFya2VyKAogICAgICAgICAgICAgICAgWzQzLjY4OTU3NDMsIC03OS4zODMxNTk5MDAwMDAwMV0sCiAgICAgICAgICAgICAgICB7ImJ1YmJsaW5nTW91c2VFdmVudHMiOiB0cnVlLCAiY29sb3IiOiAiI2ZmYjM2MCIsICJkYXNoQXJyYXkiOiBudWxsLCAiZGFzaE9mZnNldCI6IG51bGwsICJmaWxsIjogdHJ1ZSwgImZpbGxDb2xvciI6ICIjZmZiMzYwIiwgImZpbGxPcGFjaXR5IjogMC43LCAiZmlsbFJ1bGUiOiAiZXZlbm9kZCIsICJsaW5lQ2FwIjogInJvdW5kIiwgImxpbmVKb2luIjogInJvdW5kIiwgIm9wYWNpdHkiOiAxLjAsICJyYWRpdXMiOiA1LCAic3Ryb2tlIjogdHJ1ZSwgIndlaWdodCI6IDN9CiAgICAgICAgICAgICkuYWRkVG8obWFwXzczZmNhOWM3ZjBiOTQ2ZmQ5NzljNDE3OWMxNTY4MTYzKTsKICAgICAgICAKICAgIAogICAgICAgIHZhciBwb3B1cF9kMWZkYzJlNzQwMjI0NTlkOTc3YmU3MjA0OWZlMmM5ZSA9IEwucG9wdXAoeyJtYXhXaWR0aCI6ICIxMDAlIn0pOwoKICAgICAgICAKICAgICAgICAgICAgdmFyIGh0bWxfZGRhM2M1ZDE3YmIxNGE5MWIwZTZlNmM2ZDhjYzUxZTIgPSAkKGA8ZGl2IGlkPSJodG1sX2RkYTNjNWQxN2JiMTRhOTFiMGU2ZTZjNmQ4Y2M1MWUyIiBzdHlsZT0id2lkdGg6IDEwMC4wJTsgaGVpZ2h0OiAxMDAuMCU7Ij5Nb29yZSBQYXJrLCBTdW1tZXJoaWxsIEVhc3QgQ2x1c3RlciA0PC9kaXY+YClbMF07CiAgICAgICAgICAgIHBvcHVwX2QxZmRjMmU3NDAyMjQ1OWQ5NzdiZTcyMDQ5ZmUyYzllLnNldENvbnRlbnQoaHRtbF9kZGEzYzVkMTdiYjE0YTkxYjBlNmU2YzZkOGNjNTFlMik7CiAgICAgICAgCgogICAgICAgIGNpcmNsZV9tYXJrZXJfMGE5YzAyMGM2ODRkNGNiNzhkYjhiNWE1OTg0NTA2MmYuYmluZFBvcHVwKHBvcHVwX2QxZmRjMmU3NDAyMjQ1OWQ5NzdiZTcyMDQ5ZmUyYzllKQogICAgICAgIDsKCiAgICAgICAgCiAgICAKICAgIAogICAgICAgICAgICB2YXIgY2lyY2xlX21hcmtlcl85OTk3MDFjYjdkNTE0NmEzODFhY2U2OGYwMmU3MTFhNyA9IEwuY2lyY2xlTWFya2VyKAogICAgICAgICAgICAgICAgWzQzLjY4NjQxMjI5OTk5OTk5LCAtNzkuNDAwMDQ5M10sCiAgICAgICAgICAgICAgICB7ImJ1YmJsaW5nTW91c2VFdmVudHMiOiB0cnVlLCAiY29sb3IiOiAiIzgwZmZiNCIsICJkYXNoQXJyYXkiOiBudWxsLCAiZGFzaE9mZnNldCI6IG51bGwsICJmaWxsIjogdHJ1ZSwgImZpbGxDb2xvciI6ICIjODBmZmI0IiwgImZpbGxPcGFjaXR5IjogMC43LCAiZmlsbFJ1bGUiOiAiZXZlbm9kZCIsICJsaW5lQ2FwIjogInJvdW5kIiwgImxpbmVKb2luIjogInJvdW5kIiwgIm9wYWNpdHkiOiAxLjAsICJyYWRpdXMiOiA1LCAic3Ryb2tlIjogdHJ1ZSwgIndlaWdodCI6IDN9CiAgICAgICAgICAgICkuYWRkVG8obWFwXzczZmNhOWM3ZjBiOTQ2ZmQ5NzljNDE3OWMxNTY4MTYzKTsKICAgICAgICAKICAgIAogICAgICAgIHZhciBwb3B1cF8wMjRlMDBmY2IwZTk0OTliYmYwNDZmZmMyY2NjYjcwNyA9IEwucG9wdXAoeyJtYXhXaWR0aCI6ICIxMDAlIn0pOwoKICAgICAgICAKICAgICAgICAgICAgdmFyIGh0bWxfMDQ1YmM5YTlkYWQyNGQ2NGEzYmFiNzZkZTg5ZGI0YmUgPSAkKGA8ZGl2IGlkPSJodG1sXzA0NWJjOWE5ZGFkMjRkNjRhM2JhYjc2ZGU4OWRiNGJlIiBzdHlsZT0id2lkdGg6IDEwMC4wJTsgaGVpZ2h0OiAxMDAuMCU7Ij5EZWVyIFBhcmssIEZvcmVzdCBIaWxsIFNFLCBSYXRobmVsbHksIFNvdXRoIEhpbGwsIFN1bW1lcmhpbGwgV2VzdCBDbHVzdGVyIDM8L2Rpdj5gKVswXTsKICAgICAgICAgICAgcG9wdXBfMDI0ZTAwZmNiMGU5NDk5YmJmMDQ2ZmZjMmNjY2I3MDcuc2V0Q29udGVudChodG1sXzA0NWJjOWE5ZGFkMjRkNjRhM2JhYjc2ZGU4OWRiNGJlKTsKICAgICAgICAKCiAgICAgICAgY2lyY2xlX21hcmtlcl85OTk3MDFjYjdkNTE0NmEzODFhY2U2OGYwMmU3MTFhNy5iaW5kUG9wdXAocG9wdXBfMDI0ZTAwZmNiMGU5NDk5YmJmMDQ2ZmZjMmNjY2I3MDcpCiAgICAgICAgOwoKICAgICAgICAKICAgIAogICAgCiAgICAgICAgICAgIHZhciBjaXJjbGVfbWFya2VyXzA1ZjBhMmU1Y2RhNTQ5NjU4NGJiMzNmZmMyZjhiOThhID0gTC5jaXJjbGVNYXJrZXIoCiAgICAgICAgICAgICAgICBbNDMuNjc5NTYyNiwgLTc5LjM3NzUyOTQwMDAwMDAxXSwKICAgICAgICAgICAgICAgIHsiYnViYmxpbmdNb3VzZUV2ZW50cyI6IHRydWUsICJjb2xvciI6ICIjZmZiMzYwIiwgImRhc2hBcnJheSI6IG51bGwsICJkYXNoT2Zmc2V0IjogbnVsbCwgImZpbGwiOiB0cnVlLCAiZmlsbENvbG9yIjogIiNmZmIzNjAiLCAiZmlsbE9wYWNpdHkiOiAwLjcsICJmaWxsUnVsZSI6ICJldmVub2RkIiwgImxpbmVDYXAiOiAicm91bmQiLCAibGluZUpvaW4iOiAicm91bmQiLCAib3BhY2l0eSI6IDEuMCwgInJhZGl1cyI6IDUsICJzdHJva2UiOiB0cnVlLCAid2VpZ2h0IjogM30KICAgICAgICAgICAgKS5hZGRUbyhtYXBfNzNmY2E5YzdmMGI5NDZmZDk3OWM0MTc5YzE1NjgxNjMpOwogICAgICAgIAogICAgCiAgICAgICAgdmFyIHBvcHVwXzVhNGZlMTkwMWQwZjQ1ZDQ5ZDIxNmQ3NmEzNzg3MTQzID0gTC5wb3B1cCh7Im1heFdpZHRoIjogIjEwMCUifSk7CgogICAgICAgIAogICAgICAgICAgICB2YXIgaHRtbF81NDI5MDg4YzExZTM0MDAzYjNiMjVmNjE3MmEzN2U0NCA9ICQoYDxkaXYgaWQ9Imh0bWxfNTQyOTA4OGMxMWUzNDAwM2IzYjI1ZjYxNzJhMzdlNDQiIHN0eWxlPSJ3aWR0aDogMTAwLjAlOyBoZWlnaHQ6IDEwMC4wJTsiPlJvc2VkYWxlIENsdXN0ZXIgNDwvZGl2PmApWzBdOwogICAgICAgICAgICBwb3B1cF81YTRmZTE5MDFkMGY0NWQ0OWQyMTZkNzZhMzc4NzE0My5zZXRDb250ZW50KGh0bWxfNTQyOTA4OGMxMWUzNDAwM2IzYjI1ZjYxNzJhMzdlNDQpOwogICAgICAgIAoKICAgICAgICBjaXJjbGVfbWFya2VyXzA1ZjBhMmU1Y2RhNTQ5NjU4NGJiMzNmZmMyZjhiOThhLmJpbmRQb3B1cChwb3B1cF81YTRmZTE5MDFkMGY0NWQ0OWQyMTZkNzZhMzc4NzE0MykKICAgICAgICA7CgogICAgICAgIAogICAgCiAgICAKICAgICAgICAgICAgdmFyIGNpcmNsZV9tYXJrZXJfNDE1ODRhNjgwZTMwNDg4MmI0M2I1M2MzNjU3ZmI3NWEgPSBMLmNpcmNsZU1hcmtlcigKICAgICAgICAgICAgICAgIFs0My42Njc5NjcsIC03OS4zNjc2NzUzXSwKICAgICAgICAgICAgICAgIHsiYnViYmxpbmdNb3VzZUV2ZW50cyI6IHRydWUsICJjb2xvciI6ICIjODBmZmI0IiwgImRhc2hBcnJheSI6IG51bGwsICJkYXNoT2Zmc2V0IjogbnVsbCwgImZpbGwiOiB0cnVlLCAiZmlsbENvbG9yIjogIiM4MGZmYjQiLCAiZmlsbE9wYWNpdHkiOiAwLjcsICJmaWxsUnVsZSI6ICJldmVub2RkIiwgImxpbmVDYXAiOiAicm91bmQiLCAibGluZUpvaW4iOiAicm91bmQiLCAib3BhY2l0eSI6IDEuMCwgInJhZGl1cyI6IDUsICJzdHJva2UiOiB0cnVlLCAid2VpZ2h0IjogM30KICAgICAgICAgICAgKS5hZGRUbyhtYXBfNzNmY2E5YzdmMGI5NDZmZDk3OWM0MTc5YzE1NjgxNjMpOwogICAgICAgIAogICAgCiAgICAgICAgdmFyIHBvcHVwXzc1YmRlZmIzZTQ5NDRhOTVhYzU0MTRmNDVjZWZkMGM5ID0gTC5wb3B1cCh7Im1heFdpZHRoIjogIjEwMCUifSk7CgogICAgICAgIAogICAgICAgICAgICB2YXIgaHRtbF9lNDIzYjI2NmJhMTc0NjVhYjBkYjZjZDY5NDQwYzQ3YyA9ICQoYDxkaXYgaWQ9Imh0bWxfZTQyM2IyNjZiYTE3NDY1YWIwZGI2Y2Q2OTQ0MGM0N2MiIHN0eWxlPSJ3aWR0aDogMTAwLjAlOyBoZWlnaHQ6IDEwMC4wJTsiPkNhYmJhZ2V0b3duLCBTdC4gSmFtZXMgVG93biBDbHVzdGVyIDM8L2Rpdj5gKVswXTsKICAgICAgICAgICAgcG9wdXBfNzViZGVmYjNlNDk0NGE5NWFjNTQxNGY0NWNlZmQwYzkuc2V0Q29udGVudChodG1sX2U0MjNiMjY2YmExNzQ2NWFiMGRiNmNkNjk0NDBjNDdjKTsKICAgICAgICAKCiAgICAgICAgY2lyY2xlX21hcmtlcl80MTU4NGE2ODBlMzA0ODgyYjQzYjUzYzM2NTdmYjc1YS5iaW5kUG9wdXAocG9wdXBfNzViZGVmYjNlNDk0NGE5NWFjNTQxNGY0NWNlZmQwYzkpCiAgICAgICAgOwoKICAgICAgICAKICAgIAogICAgCiAgICAgICAgICAgIHZhciBjaXJjbGVfbWFya2VyXzc5NGUwZmNkZTI2ZDQ0ZGY4NzVhNDUyNDNiOTY0NTkxID0gTC5jaXJjbGVNYXJrZXIoCiAgICAgICAgICAgICAgICBbNDMuNjY1ODU5OSwgLTc5LjM4MzE1OTkwMDAwMDAxXSwKICAgICAgICAgICAgICAgIHsiYnViYmxpbmdNb3VzZUV2ZW50cyI6IHRydWUsICJjb2xvciI6ICIjODBmZmI0IiwgImRhc2hBcnJheSI6IG51bGwsICJkYXNoT2Zmc2V0IjogbnVsbCwgImZpbGwiOiB0cnVlLCAiZmlsbENvbG9yIjogIiM4MGZmYjQiLCAiZmlsbE9wYWNpdHkiOiAwLjcsICJmaWxsUnVsZSI6ICJldmVub2RkIiwgImxpbmVDYXAiOiAicm91bmQiLCAibGluZUpvaW4iOiAicm91bmQiLCAib3BhY2l0eSI6IDEuMCwgInJhZGl1cyI6IDUsICJzdHJva2UiOiB0cnVlLCAid2VpZ2h0IjogM30KICAgICAgICAgICAgKS5hZGRUbyhtYXBfNzNmY2E5YzdmMGI5NDZmZDk3OWM0MTc5YzE1NjgxNjMpOwogICAgICAgIAogICAgCiAgICAgICAgdmFyIHBvcHVwX2FmNzYyMjUzMDJjMDRkOGE5ZGIwYzNiMTI2ZDM3YWVjID0gTC5wb3B1cCh7Im1heFdpZHRoIjogIjEwMCUifSk7CgogICAgICAgIAogICAgICAgICAgICB2YXIgaHRtbF8zM2ZiYzg2NmQ4MGQ0YmY1YWY2YWUxNjc3NjYxNjMyOCA9ICQoYDxkaXYgaWQ9Imh0bWxfMzNmYmM4NjZkODBkNGJmNWFmNmFlMTY3NzY2MTYzMjgiIHN0eWxlPSJ3aWR0aDogMTAwLjAlOyBoZWlnaHQ6IDEwMC4wJTsiPkNodXJjaCBhbmQgV2VsbGVzbGV5IENsdXN0ZXIgMzwvZGl2PmApWzBdOwogICAgICAgICAgICBwb3B1cF9hZjc2MjI1MzAyYzA0ZDhhOWRiMGMzYjEyNmQzN2FlYy5zZXRDb250ZW50KGh0bWxfMzNmYmM4NjZkODBkNGJmNWFmNmFlMTY3NzY2MTYzMjgpOwogICAgICAgIAoKICAgICAgICBjaXJjbGVfbWFya2VyXzc5NGUwZmNkZTI2ZDQ0ZGY4NzVhNDUyNDNiOTY0NTkxLmJpbmRQb3B1cChwb3B1cF9hZjc2MjI1MzAyYzA0ZDhhOWRiMGMzYjEyNmQzN2FlYykKICAgICAgICA7CgogICAgICAgIAogICAgCiAgICAKICAgICAgICAgICAgdmFyIGNpcmNsZV9tYXJrZXJfYzA1ZTVlNDQ3OWI3NGNlZTljZDU2NGQ1YjA3ODI4MmYgPSBMLmNpcmNsZU1hcmtlcigKICAgICAgICAgICAgICAgIFs0My42NTQyNTk5LCAtNzkuMzYwNjM1OV0sCiAgICAgICAgICAgICAgICB7ImJ1YmJsaW5nTW91c2VFdmVudHMiOiB0cnVlLCAiY29sb3IiOiAiIzgwZmZiNCIsICJkYXNoQXJyYXkiOiBudWxsLCAiZGFzaE9mZnNldCI6IG51bGwsICJmaWxsIjogdHJ1ZSwgImZpbGxDb2xvciI6ICIjODBmZmI0IiwgImZpbGxPcGFjaXR5IjogMC43LCAiZmlsbFJ1bGUiOiAiZXZlbm9kZCIsICJsaW5lQ2FwIjogInJvdW5kIiwgImxpbmVKb2luIjogInJvdW5kIiwgIm9wYWNpdHkiOiAxLjAsICJyYWRpdXMiOiA1LCAic3Ryb2tlIjogdHJ1ZSwgIndlaWdodCI6IDN9CiAgICAgICAgICAgICkuYWRkVG8obWFwXzczZmNhOWM3ZjBiOTQ2ZmQ5NzljNDE3OWMxNTY4MTYzKTsKICAgICAgICAKICAgIAogICAgICAgIHZhciBwb3B1cF8yY2NhN2FjZDg1Zjg0YmZiYmQ0Yzc2ZDk4MDZkMjY2ZiA9IEwucG9wdXAoeyJtYXhXaWR0aCI6ICIxMDAlIn0pOwoKICAgICAgICAKICAgICAgICAgICAgdmFyIGh0bWxfZWZlMTRjYmEzY2Y5NDI1Yjg2OWY3ZDYyMmE3ZmE2MDkgPSAkKGA8ZGl2IGlkPSJodG1sX2VmZTE0Y2JhM2NmOTQyNWI4NjlmN2Q2MjJhN2ZhNjA5IiBzdHlsZT0id2lkdGg6IDEwMC4wJTsgaGVpZ2h0OiAxMDAuMCU7Ij5IYXJib3VyZnJvbnQsIFJlZ2VudCBQYXJrIENsdXN0ZXIgMzwvZGl2PmApWzBdOwogICAgICAgICAgICBwb3B1cF8yY2NhN2FjZDg1Zjg0YmZiYmQ0Yzc2ZDk4MDZkMjY2Zi5zZXRDb250ZW50KGh0bWxfZWZlMTRjYmEzY2Y5NDI1Yjg2OWY3ZDYyMmE3ZmE2MDkpOwogICAgICAgIAoKICAgICAgICBjaXJjbGVfbWFya2VyX2MwNWU1ZTQ0NzliNzRjZWU5Y2Q1NjRkNWIwNzgyODJmLmJpbmRQb3B1cChwb3B1cF8yY2NhN2FjZDg1Zjg0YmZiYmQ0Yzc2ZDk4MDZkMjY2ZikKICAgICAgICA7CgogICAgICAgIAogICAgCiAgICAKICAgICAgICAgICAgdmFyIGNpcmNsZV9tYXJrZXJfMWVmM2EwNjEzYjg0NDNiNGIxNDU4MDM2NmM3ODFmZmIgPSBMLmNpcmNsZU1hcmtlcigKICAgICAgICAgICAgICAgIFs0My42NTcxNjE4LCAtNzkuMzc4OTM3MDk5OTk5OTldLAogICAgICAgICAgICAgICAgeyJidWJibGluZ01vdXNlRXZlbnRzIjogdHJ1ZSwgImNvbG9yIjogIiM4MGZmYjQiLCAiZGFzaEFycmF5IjogbnVsbCwgImRhc2hPZmZzZXQiOiBudWxsLCAiZmlsbCI6IHRydWUsICJmaWxsQ29sb3IiOiAiIzgwZmZiNCIsICJmaWxsT3BhY2l0eSI6IDAuNywgImZpbGxSdWxlIjogImV2ZW5vZGQiLCAibGluZUNhcCI6ICJyb3VuZCIsICJsaW5lSm9pbiI6ICJyb3VuZCIsICJvcGFjaXR5IjogMS4wLCAicmFkaXVzIjogNSwgInN0cm9rZSI6IHRydWUsICJ3ZWlnaHQiOiAzfQogICAgICAgICAgICApLmFkZFRvKG1hcF83M2ZjYTljN2YwYjk0NmZkOTc5YzQxNzljMTU2ODE2Myk7CiAgICAgICAgCiAgICAKICAgICAgICB2YXIgcG9wdXBfOGU4MzMzODE0NzQ2NGM0ZWFhZjk0NzM5Y2IzZmVhYzggPSBMLnBvcHVwKHsibWF4V2lkdGgiOiAiMTAwJSJ9KTsKCiAgICAgICAgCiAgICAgICAgICAgIHZhciBodG1sXzEyZmZjYmRlMTJhZDQ1MDZhNzk4ODAzMDAyYjJmZDdmID0gJChgPGRpdiBpZD0iaHRtbF8xMmZmY2JkZTEyYWQ0NTA2YTc5ODgwMzAwMmIyZmQ3ZiIgc3R5bGU9IndpZHRoOiAxMDAuMCU7IGhlaWdodDogMTAwLjAlOyI+UnllcnNvbiwgR2FyZGVuIERpc3RyaWN0IENsdXN0ZXIgMzwvZGl2PmApWzBdOwogICAgICAgICAgICBwb3B1cF84ZTgzMzM4MTQ3NDY0YzRlYWFmOTQ3MzljYjNmZWFjOC5zZXRDb250ZW50KGh0bWxfMTJmZmNiZGUxMmFkNDUwNmE3OTg4MDMwMDJiMmZkN2YpOwogICAgICAgIAoKICAgICAgICBjaXJjbGVfbWFya2VyXzFlZjNhMDYxM2I4NDQzYjRiMTQ1ODAzNjZjNzgxZmZiLmJpbmRQb3B1cChwb3B1cF84ZTgzMzM4MTQ3NDY0YzRlYWFmOTQ3MzljYjNmZWFjOCkKICAgICAgICA7CgogICAgICAgIAogICAgCiAgICAKICAgICAgICAgICAgdmFyIGNpcmNsZV9tYXJrZXJfYzczN2U4ZWU0ODcxNDE0OWEzNDA2YThhOTBkNzQ2NWEgPSBMLmNpcmNsZU1hcmtlcigKICAgICAgICAgICAgICAgIFs0My42NTE0OTM5LCAtNzkuMzc1NDE3OV0sCiAgICAgICAgICAgICAgICB7ImJ1YmJsaW5nTW91c2VFdmVudHMiOiB0cnVlLCAiY29sb3IiOiAiIzgwZmZiNCIsICJkYXNoQXJyYXkiOiBudWxsLCAiZGFzaE9mZnNldCI6IG51bGwsICJmaWxsIjogdHJ1ZSwgImZpbGxDb2xvciI6ICIjODBmZmI0IiwgImZpbGxPcGFjaXR5IjogMC43LCAiZmlsbFJ1bGUiOiAiZXZlbm9kZCIsICJsaW5lQ2FwIjogInJvdW5kIiwgImxpbmVKb2luIjogInJvdW5kIiwgIm9wYWNpdHkiOiAxLjAsICJyYWRpdXMiOiA1LCAic3Ryb2tlIjogdHJ1ZSwgIndlaWdodCI6IDN9CiAgICAgICAgICAgICkuYWRkVG8obWFwXzczZmNhOWM3ZjBiOTQ2ZmQ5NzljNDE3OWMxNTY4MTYzKTsKICAgICAgICAKICAgIAogICAgICAgIHZhciBwb3B1cF82YWE5ZTlmZjc5MGE0Y2UyYmVlNjBjYWEzZmUxODAyYSA9IEwucG9wdXAoeyJtYXhXaWR0aCI6ICIxMDAlIn0pOwoKICAgICAgICAKICAgICAgICAgICAgdmFyIGh0bWxfYmRhZDRlZWM5YmQ3NGY1Mjg5ZjE3NjA1MmFiNDcwOWEgPSAkKGA8ZGl2IGlkPSJodG1sX2JkYWQ0ZWVjOWJkNzRmNTI4OWYxNzYwNTJhYjQ3MDlhIiBzdHlsZT0id2lkdGg6IDEwMC4wJTsgaGVpZ2h0OiAxMDAuMCU7Ij5TdC4gSmFtZXMgVG93biBDbHVzdGVyIDM8L2Rpdj5gKVswXTsKICAgICAgICAgICAgcG9wdXBfNmFhOWU5ZmY3OTBhNGNlMmJlZTYwY2FhM2ZlMTgwMmEuc2V0Q29udGVudChodG1sX2JkYWQ0ZWVjOWJkNzRmNTI4OWYxNzYwNTJhYjQ3MDlhKTsKICAgICAgICAKCiAgICAgICAgY2lyY2xlX21hcmtlcl9jNzM3ZThlZTQ4NzE0MTQ5YTM0MDZhOGE5MGQ3NDY1YS5iaW5kUG9wdXAocG9wdXBfNmFhOWU5ZmY3OTBhNGNlMmJlZTYwY2FhM2ZlMTgwMmEpCiAgICAgICAgOwoKICAgICAgICAKICAgIAogICAgCiAgICAgICAgICAgIHZhciBjaXJjbGVfbWFya2VyXzk0Y2JkOGFhZGM2ODRjOTM5YTBhZmRkMzNkMjAxYzVhID0gTC5jaXJjbGVNYXJrZXIoCiAgICAgICAgICAgICAgICBbNDMuNjQ0NzcwNzk5OTk5OTk2LCAtNzkuMzczMzA2NF0sCiAgICAgICAgICAgICAgICB7ImJ1YmJsaW5nTW91c2VFdmVudHMiOiB0cnVlLCAiY29sb3IiOiAiIzgwZmZiNCIsICJkYXNoQXJyYXkiOiBudWxsLCAiZGFzaE9mZnNldCI6IG51bGwsICJmaWxsIjogdHJ1ZSwgImZpbGxDb2xvciI6ICIjODBmZmI0IiwgImZpbGxPcGFjaXR5IjogMC43LCAiZmlsbFJ1bGUiOiAiZXZlbm9kZCIsICJsaW5lQ2FwIjogInJvdW5kIiwgImxpbmVKb2luIjogInJvdW5kIiwgIm9wYWNpdHkiOiAxLjAsICJyYWRpdXMiOiA1LCAic3Ryb2tlIjogdHJ1ZSwgIndlaWdodCI6IDN9CiAgICAgICAgICAgICkuYWRkVG8obWFwXzczZmNhOWM3ZjBiOTQ2ZmQ5NzljNDE3OWMxNTY4MTYzKTsKICAgICAgICAKICAgIAogICAgICAgIHZhciBwb3B1cF8wZDVmYmY4NDZmOWY0YWZhOGIyNDU4M2RiYjU1ZWViYSA9IEwucG9wdXAoeyJtYXhXaWR0aCI6ICIxMDAlIn0pOwoKICAgICAgICAKICAgICAgICAgICAgdmFyIGh0bWxfM2E4ZDU3NWUxNmYyNGUzZjhhZjBiYjFhZDcxOTA1MjEgPSAkKGA8ZGl2IGlkPSJodG1sXzNhOGQ1NzVlMTZmMjRlM2Y4YWYwYmIxYWQ3MTkwNTIxIiBzdHlsZT0id2lkdGg6IDEwMC4wJTsgaGVpZ2h0OiAxMDAuMCU7Ij5CZXJjenkgUGFyayBDbHVzdGVyIDM8L2Rpdj5gKVswXTsKICAgICAgICAgICAgcG9wdXBfMGQ1ZmJmODQ2ZjlmNGFmYThiMjQ1ODNkYmI1NWVlYmEuc2V0Q29udGVudChodG1sXzNhOGQ1NzVlMTZmMjRlM2Y4YWYwYmIxYWQ3MTkwNTIxKTsKICAgICAgICAKCiAgICAgICAgY2lyY2xlX21hcmtlcl85NGNiZDhhYWRjNjg0YzkzOWEwYWZkZDMzZDIwMWM1YS5iaW5kUG9wdXAocG9wdXBfMGQ1ZmJmODQ2ZjlmNGFmYThiMjQ1ODNkYmI1NWVlYmEpCiAgICAgICAgOwoKICAgICAgICAKICAgIAogICAgCiAgICAgICAgICAgIHZhciBjaXJjbGVfbWFya2VyXzZhZGE4NzI0Yjk2MTQ5ZjY5ZDRmZTU3NjFlM2ZlMmI2ID0gTC5jaXJjbGVNYXJrZXIoCiAgICAgICAgICAgICAgICBbNDMuNjU3OTUyNCwgLTc5LjM4NzM4MjZdLAogICAgICAgICAgICAgICAgeyJidWJibGluZ01vdXNlRXZlbnRzIjogdHJ1ZSwgImNvbG9yIjogIiM4MGZmYjQiLCAiZGFzaEFycmF5IjogbnVsbCwgImRhc2hPZmZzZXQiOiBudWxsLCAiZmlsbCI6IHRydWUsICJmaWxsQ29sb3IiOiAiIzgwZmZiNCIsICJmaWxsT3BhY2l0eSI6IDAuNywgImZpbGxSdWxlIjogImV2ZW5vZGQiLCAibGluZUNhcCI6ICJyb3VuZCIsICJsaW5lSm9pbiI6ICJyb3VuZCIsICJvcGFjaXR5IjogMS4wLCAicmFkaXVzIjogNSwgInN0cm9rZSI6IHRydWUsICJ3ZWlnaHQiOiAzfQogICAgICAgICAgICApLmFkZFRvKG1hcF83M2ZjYTljN2YwYjk0NmZkOTc5YzQxNzljMTU2ODE2Myk7CiAgICAgICAgCiAgICAKICAgICAgICB2YXIgcG9wdXBfMzQ4MDZiN2NiMDliNGRjZWJkMWEwOTQ4NzYzYzY0NDAgPSBMLnBvcHVwKHsibWF4V2lkdGgiOiAiMTAwJSJ9KTsKCiAgICAgICAgCiAgICAgICAgICAgIHZhciBodG1sXzliNDQzZWQwNDc0NTQzNzI4Mjg4NWMwZmExMmUxOTk3ID0gJChgPGRpdiBpZD0iaHRtbF85YjQ0M2VkMDQ3NDU0MzcyODI4ODVjMGZhMTJlMTk5NyIgc3R5bGU9IndpZHRoOiAxMDAuMCU7IGhlaWdodDogMTAwLjAlOyI+Q2VudHJhbCBCYXkgU3RyZWV0IENsdXN0ZXIgMzwvZGl2PmApWzBdOwogICAgICAgICAgICBwb3B1cF8zNDgwNmI3Y2IwOWI0ZGNlYmQxYTA5NDg3NjNjNjQ0MC5zZXRDb250ZW50KGh0bWxfOWI0NDNlZDA0NzQ1NDM3MjgyODg1YzBmYTEyZTE5OTcpOwogICAgICAgIAoKICAgICAgICBjaXJjbGVfbWFya2VyXzZhZGE4NzI0Yjk2MTQ5ZjY5ZDRmZTU3NjFlM2ZlMmI2LmJpbmRQb3B1cChwb3B1cF8zNDgwNmI3Y2IwOWI0ZGNlYmQxYTA5NDg3NjNjNjQ0MCkKICAgICAgICA7CgogICAgICAgIAogICAgCiAgICAKICAgICAgICAgICAgdmFyIGNpcmNsZV9tYXJrZXJfN2M1ZGQzNGVjNDFlNDUyNWEwY2Q3YWYxZDExNjEyNDkgPSBMLmNpcmNsZU1hcmtlcigKICAgICAgICAgICAgICAgIFs0My42NTA1NzEyMDAwMDAwMSwgLTc5LjM4NDU2NzVdLAogICAgICAgICAgICAgICAgeyJidWJibGluZ01vdXNlRXZlbnRzIjogdHJ1ZSwgImNvbG9yIjogIiM4MGZmYjQiLCAiZGFzaEFycmF5IjogbnVsbCwgImRhc2hPZmZzZXQiOiBudWxsLCAiZmlsbCI6IHRydWUsICJmaWxsQ29sb3IiOiAiIzgwZmZiNCIsICJmaWxsT3BhY2l0eSI6IDAuNywgImZpbGxSdWxlIjogImV2ZW5vZGQiLCAibGluZUNhcCI6ICJyb3VuZCIsICJsaW5lSm9pbiI6ICJyb3VuZCIsICJvcGFjaXR5IjogMS4wLCAicmFkaXVzIjogNSwgInN0cm9rZSI6IHRydWUsICJ3ZWlnaHQiOiAzfQogICAgICAgICAgICApLmFkZFRvKG1hcF83M2ZjYTljN2YwYjk0NmZkOTc5YzQxNzljMTU2ODE2Myk7CiAgICAgICAgCiAgICAKICAgICAgICB2YXIgcG9wdXBfYTAxODYxNmZjNThjNDUzYThjMTA5MDBmZDk3YjE4N2EgPSBMLnBvcHVwKHsibWF4V2lkdGgiOiAiMTAwJSJ9KTsKCiAgICAgICAgCiAgICAgICAgICAgIHZhciBodG1sX2FmNTBiMGQ0MWZjYjQ2YmJhYWE0Mjg1N2Y2OGNmODk3ID0gJChgPGRpdiBpZD0iaHRtbF9hZjUwYjBkNDFmY2I0NmJiYWFhNDI4NTdmNjhjZjg5NyIgc3R5bGU9IndpZHRoOiAxMDAuMCU7IGhlaWdodDogMTAwLjAlOyI+QWRlbGFpZGUsIEtpbmcsIFJpY2htb25kIENsdXN0ZXIgMzwvZGl2PmApWzBdOwogICAgICAgICAgICBwb3B1cF9hMDE4NjE2ZmM1OGM0NTNhOGMxMDkwMGZkOTdiMTg3YS5zZXRDb250ZW50KGh0bWxfYWY1MGIwZDQxZmNiNDZiYmFhYTQyODU3ZjY4Y2Y4OTcpOwogICAgICAgIAoKICAgICAgICBjaXJjbGVfbWFya2VyXzdjNWRkMzRlYzQxZTQ1MjVhMGNkN2FmMWQxMTYxMjQ5LmJpbmRQb3B1cChwb3B1cF9hMDE4NjE2ZmM1OGM0NTNhOGMxMDkwMGZkOTdiMTg3YSkKICAgICAgICA7CgogICAgICAgIAogICAgCiAgICAKICAgICAgICAgICAgdmFyIGNpcmNsZV9tYXJrZXJfZjhkYmUxODBiNTQ1NDMzZTg4YzQ4ZTM0YmI0ZmQ5ZTMgPSBMLmNpcmNsZU1hcmtlcigKICAgICAgICAgICAgICAgIFs0My42NDA4MTU3LCAtNzkuMzgxNzUyMjk5OTk5OTldLAogICAgICAgICAgICAgICAgeyJidWJibGluZ01vdXNlRXZlbnRzIjogdHJ1ZSwgImNvbG9yIjogIiM4MGZmYjQiLCAiZGFzaEFycmF5IjogbnVsbCwgImRhc2hPZmZzZXQiOiBudWxsLCAiZmlsbCI6IHRydWUsICJmaWxsQ29sb3IiOiAiIzgwZmZiNCIsICJmaWxsT3BhY2l0eSI6IDAuNywgImZpbGxSdWxlIjogImV2ZW5vZGQiLCAibGluZUNhcCI6ICJyb3VuZCIsICJsaW5lSm9pbiI6ICJyb3VuZCIsICJvcGFjaXR5IjogMS4wLCAicmFkaXVzIjogNSwgInN0cm9rZSI6IHRydWUsICJ3ZWlnaHQiOiAzfQogICAgICAgICAgICApLmFkZFRvKG1hcF83M2ZjYTljN2YwYjk0NmZkOTc5YzQxNzljMTU2ODE2Myk7CiAgICAgICAgCiAgICAKICAgICAgICB2YXIgcG9wdXBfZDAwNWExY2RjZThkNGMyMWJmOTliYzVhNmU1MDQ3NzUgPSBMLnBvcHVwKHsibWF4V2lkdGgiOiAiMTAwJSJ9KTsKCiAgICAgICAgCiAgICAgICAgICAgIHZhciBodG1sX2ZjZjIxYmYwYTFlYTQ4OWY4M2RiYTVkMjM5NjYwOWUyID0gJChgPGRpdiBpZD0iaHRtbF9mY2YyMWJmMGExZWE0ODlmODNkYmE1ZDIzOTY2MDllMiIgc3R5bGU9IndpZHRoOiAxMDAuMCU7IGhlaWdodDogMTAwLjAlOyI+SGFyYm91cmZyb250IEVhc3QsIFRvcm9udG8gSXNsYW5kcywgVW5pb24gU3RhdGlvbiBDbHVzdGVyIDM8L2Rpdj5gKVswXTsKICAgICAgICAgICAgcG9wdXBfZDAwNWExY2RjZThkNGMyMWJmOTliYzVhNmU1MDQ3NzUuc2V0Q29udGVudChodG1sX2ZjZjIxYmYwYTFlYTQ4OWY4M2RiYTVkMjM5NjYwOWUyKTsKICAgICAgICAKCiAgICAgICAgY2lyY2xlX21hcmtlcl9mOGRiZTE4MGI1NDU0MzNlODhjNDhlMzRiYjRmZDllMy5iaW5kUG9wdXAocG9wdXBfZDAwNWExY2RjZThkNGMyMWJmOTliYzVhNmU1MDQ3NzUpCiAgICAgICAgOwoKICAgICAgICAKICAgIAogICAgCiAgICAgICAgICAgIHZhciBjaXJjbGVfbWFya2VyXzQ1ZjVhNWY3ZjhmOTRkMjA5N2RhM2E4MTY0MjMzNzRiID0gTC5jaXJjbGVNYXJrZXIoCiAgICAgICAgICAgICAgICBbNDMuNjQ3MTc2OCwgLTc5LjM4MTU3NjQwMDAwMDAxXSwKICAgICAgICAgICAgICAgIHsiYnViYmxpbmdNb3VzZUV2ZW50cyI6IHRydWUsICJjb2xvciI6ICIjODBmZmI0IiwgImRhc2hBcnJheSI6IG51bGwsICJkYXNoT2Zmc2V0IjogbnVsbCwgImZpbGwiOiB0cnVlLCAiZmlsbENvbG9yIjogIiM4MGZmYjQiLCAiZmlsbE9wYWNpdHkiOiAwLjcsICJmaWxsUnVsZSI6ICJldmVub2RkIiwgImxpbmVDYXAiOiAicm91bmQiLCAibGluZUpvaW4iOiAicm91bmQiLCAib3BhY2l0eSI6IDEuMCwgInJhZGl1cyI6IDUsICJzdHJva2UiOiB0cnVlLCAid2VpZ2h0IjogM30KICAgICAgICAgICAgKS5hZGRUbyhtYXBfNzNmY2E5YzdmMGI5NDZmZDk3OWM0MTc5YzE1NjgxNjMpOwogICAgICAgIAogICAgCiAgICAgICAgdmFyIHBvcHVwXzc3OWZhMzhlNWMxNTQwMjZhOTBjNjBkZWViMzNjNjk5ID0gTC5wb3B1cCh7Im1heFdpZHRoIjogIjEwMCUifSk7CgogICAgICAgIAogICAgICAgICAgICB2YXIgaHRtbF8wNjYyNzZhOTViMzE0OWEzOTQ4NjgxZDIxNDNmMTdhMSA9ICQoYDxkaXYgaWQ9Imh0bWxfMDY2Mjc2YTk1YjMxNDlhMzk0ODY4MWQyMTQzZjE3YTEiIHN0eWxlPSJ3aWR0aDogMTAwLjAlOyBoZWlnaHQ6IDEwMC4wJTsiPkRlc2lnbiBFeGNoYW5nZSwgVG9yb250byBEb21pbmlvbiBDZW50cmUgQ2x1c3RlciAzPC9kaXY+YClbMF07CiAgICAgICAgICAgIHBvcHVwXzc3OWZhMzhlNWMxNTQwMjZhOTBjNjBkZWViMzNjNjk5LnNldENvbnRlbnQoaHRtbF8wNjYyNzZhOTViMzE0OWEzOTQ4NjgxZDIxNDNmMTdhMSk7CiAgICAgICAgCgogICAgICAgIGNpcmNsZV9tYXJrZXJfNDVmNWE1ZjdmOGY5NGQyMDk3ZGEzYTgxNjQyMzM3NGIuYmluZFBvcHVwKHBvcHVwXzc3OWZhMzhlNWMxNTQwMjZhOTBjNjBkZWViMzNjNjk5KQogICAgICAgIDsKCiAgICAgICAgCiAgICAKICAgIAogICAgICAgICAgICB2YXIgY2lyY2xlX21hcmtlcl8wMWIxMjQ1ZWUzMGQ0NDk3OGEwMDljMzg0ZjAyYjIyYSA9IEwuY2lyY2xlTWFya2VyKAogICAgICAgICAgICAgICAgWzQzLjY0ODE5ODUsIC03OS4zNzk4MTY5MDAwMDAwMV0sCiAgICAgICAgICAgICAgICB7ImJ1YmJsaW5nTW91c2VFdmVudHMiOiB0cnVlLCAiY29sb3IiOiAiIzgwZmZiNCIsICJkYXNoQXJyYXkiOiBudWxsLCAiZGFzaE9mZnNldCI6IG51bGwsICJmaWxsIjogdHJ1ZSwgImZpbGxDb2xvciI6ICIjODBmZmI0IiwgImZpbGxPcGFjaXR5IjogMC43LCAiZmlsbFJ1bGUiOiAiZXZlbm9kZCIsICJsaW5lQ2FwIjogInJvdW5kIiwgImxpbmVKb2luIjogInJvdW5kIiwgIm9wYWNpdHkiOiAxLjAsICJyYWRpdXMiOiA1LCAic3Ryb2tlIjogdHJ1ZSwgIndlaWdodCI6IDN9CiAgICAgICAgICAgICkuYWRkVG8obWFwXzczZmNhOWM3ZjBiOTQ2ZmQ5NzljNDE3OWMxNTY4MTYzKTsKICAgICAgICAKICAgIAogICAgICAgIHZhciBwb3B1cF81MzUyMmU2YWI3NDA0ZjMwODkzZWY0NjAwYjUxMzAxYyA9IEwucG9wdXAoeyJtYXhXaWR0aCI6ICIxMDAlIn0pOwoKICAgICAgICAKICAgICAgICAgICAgdmFyIGh0bWxfNTM1MGIxMzk1OTNlNDRiOWIyZDEzM2JlMDZiZjNjZWMgPSAkKGA8ZGl2IGlkPSJodG1sXzUzNTBiMTM5NTkzZTQ0YjliMmQxMzNiZTA2YmYzY2VjIiBzdHlsZT0id2lkdGg6IDEwMC4wJTsgaGVpZ2h0OiAxMDAuMCU7Ij5Db21tZXJjZSBDb3VydCwgVmljdG9yaWEgSG90ZWwgQ2x1c3RlciAzPC9kaXY+YClbMF07CiAgICAgICAgICAgIHBvcHVwXzUzNTIyZTZhYjc0MDRmMzA4OTNlZjQ2MDBiNTEzMDFjLnNldENvbnRlbnQoaHRtbF81MzUwYjEzOTU5M2U0NGI5YjJkMTMzYmUwNmJmM2NlYyk7CiAgICAgICAgCgogICAgICAgIGNpcmNsZV9tYXJrZXJfMDFiMTI0NWVlMzBkNDQ5NzhhMDA5YzM4NGYwMmIyMmEuYmluZFBvcHVwKHBvcHVwXzUzNTIyZTZhYjc0MDRmMzA4OTNlZjQ2MDBiNTEzMDFjKQogICAgICAgIDsKCiAgICAgICAgCiAgICAKICAgIAogICAgICAgICAgICB2YXIgY2lyY2xlX21hcmtlcl80ZGRkOWJmZjkzZWE0ZGY3ODQyNTQ3MjAwMmNmMjk4NyA9IEwuY2lyY2xlTWFya2VyKAogICAgICAgICAgICAgICAgWzQzLjcxMTY5NDgsIC03OS40MTY5MzU1OTk5OTk5OV0sCiAgICAgICAgICAgICAgICB7ImJ1YmJsaW5nTW91c2VFdmVudHMiOiB0cnVlLCAiY29sb3IiOiAiIzgwMDBmZiIsICJkYXNoQXJyYXkiOiBudWxsLCAiZGFzaE9mZnNldCI6IG51bGwsICJmaWxsIjogdHJ1ZSwgImZpbGxDb2xvciI6ICIjODAwMGZmIiwgImZpbGxPcGFjaXR5IjogMC43LCAiZmlsbFJ1bGUiOiAiZXZlbm9kZCIsICJsaW5lQ2FwIjogInJvdW5kIiwgImxpbmVKb2luIjogInJvdW5kIiwgIm9wYWNpdHkiOiAxLjAsICJyYWRpdXMiOiA1LCAic3Ryb2tlIjogdHJ1ZSwgIndlaWdodCI6IDN9CiAgICAgICAgICAgICkuYWRkVG8obWFwXzczZmNhOWM3ZjBiOTQ2ZmQ5NzljNDE3OWMxNTY4MTYzKTsKICAgICAgICAKICAgIAogICAgICAgIHZhciBwb3B1cF80YTJjZTc5MWMxY2M0NWMxOTJlODMwYmE0OGUxODAyNyA9IEwucG9wdXAoeyJtYXhXaWR0aCI6ICIxMDAlIn0pOwoKICAgICAgICAKICAgICAgICAgICAgdmFyIGh0bWxfMTBjZTA2YjgyZDczNDUwN2JiMTVlZTMwYmY2ZjIyM2YgPSAkKGA8ZGl2IGlkPSJodG1sXzEwY2UwNmI4MmQ3MzQ1MDdiYjE1ZWUzMGJmNmYyMjNmIiBzdHlsZT0id2lkdGg6IDEwMC4wJTsgaGVpZ2h0OiAxMDAuMCU7Ij5Sb3NlbGF3biBDbHVzdGVyIDE8L2Rpdj5gKVswXTsKICAgICAgICAgICAgcG9wdXBfNGEyY2U3OTFjMWNjNDVjMTkyZTgzMGJhNDhlMTgwMjcuc2V0Q29udGVudChodG1sXzEwY2UwNmI4MmQ3MzQ1MDdiYjE1ZWUzMGJmNmYyMjNmKTsKICAgICAgICAKCiAgICAgICAgY2lyY2xlX21hcmtlcl80ZGRkOWJmZjkzZWE0ZGY3ODQyNTQ3MjAwMmNmMjk4Ny5iaW5kUG9wdXAocG9wdXBfNGEyY2U3OTFjMWNjNDVjMTkyZTgzMGJhNDhlMTgwMjcpCiAgICAgICAgOwoKICAgICAgICAKICAgIAogICAgCiAgICAgICAgICAgIHZhciBjaXJjbGVfbWFya2VyXzA5Mzc5OTgxODBjMjQzZDc4MzUwMzMzOGY1MTRlY2FlID0gTC5jaXJjbGVNYXJrZXIoCiAgICAgICAgICAgICAgICBbNDMuNjk2OTQ3NiwgLTc5LjQxMTMwNzIwMDAwMDAxXSwKICAgICAgICAgICAgICAgIHsiYnViYmxpbmdNb3VzZUV2ZW50cyI6IHRydWUsICJjb2xvciI6ICIjMDBiNWViIiwgImRhc2hBcnJheSI6IG51bGwsICJkYXNoT2Zmc2V0IjogbnVsbCwgImZpbGwiOiB0cnVlLCAiZmlsbENvbG9yIjogIiMwMGI1ZWIiLCAiZmlsbE9wYWNpdHkiOiAwLjcsICJmaWxsUnVsZSI6ICJldmVub2RkIiwgImxpbmVDYXAiOiAicm91bmQiLCAibGluZUpvaW4iOiAicm91bmQiLCAib3BhY2l0eSI6IDEuMCwgInJhZGl1cyI6IDUsICJzdHJva2UiOiB0cnVlLCAid2VpZ2h0IjogM30KICAgICAgICAgICAgKS5hZGRUbyhtYXBfNzNmY2E5YzdmMGI5NDZmZDk3OWM0MTc5YzE1NjgxNjMpOwogICAgICAgIAogICAgCiAgICAgICAgdmFyIHBvcHVwXzA5OTVmZDBjZTE5ZjQ2NTI5YTM3MDAwZmZhM2VkZGM0ID0gTC5wb3B1cCh7Im1heFdpZHRoIjogIjEwMCUifSk7CgogICAgICAgIAogICAgICAgICAgICB2YXIgaHRtbF81ZDVhZjVhYzczOWU0MWIxOGY3NDkxZTM2YTliNjY0MiA9ICQoYDxkaXYgaWQ9Imh0bWxfNWQ1YWY1YWM3MzllNDFiMThmNzQ5MWUzNmE5YjY2NDIiIHN0eWxlPSJ3aWR0aDogMTAwLjAlOyBoZWlnaHQ6IDEwMC4wJTsiPkZvcmVzdCBIaWxsIE5vcnRoLCBGb3Jlc3QgSGlsbCBXZXN0IENsdXN0ZXIgMjwvZGl2PmApWzBdOwogICAgICAgICAgICBwb3B1cF8wOTk1ZmQwY2UxOWY0NjUyOWEzNzAwMGZmYTNlZGRjNC5zZXRDb250ZW50KGh0bWxfNWQ1YWY1YWM3MzllNDFiMThmNzQ5MWUzNmE5YjY2NDIpOwogICAgICAgIAoKICAgICAgICBjaXJjbGVfbWFya2VyXzA5Mzc5OTgxODBjMjQzZDc4MzUwMzMzOGY1MTRlY2FlLmJpbmRQb3B1cChwb3B1cF8wOTk1ZmQwY2UxOWY0NjUyOWEzNzAwMGZmYTNlZGRjNCkKICAgICAgICA7CgogICAgICAgIAogICAgCiAgICAKICAgICAgICAgICAgdmFyIGNpcmNsZV9tYXJrZXJfZmMzMGQxMTNmNGUyNGMyMDk2MDNlMjRmZjZjZjc1ODMgPSBMLmNpcmNsZU1hcmtlcigKICAgICAgICAgICAgICAgIFs0My42NzI3MDk3LCAtNzkuNDA1Njc4NDAwMDAwMDFdLAogICAgICAgICAgICAgICAgeyJidWJibGluZ01vdXNlRXZlbnRzIjogdHJ1ZSwgImNvbG9yIjogIiM4MGZmYjQiLCAiZGFzaEFycmF5IjogbnVsbCwgImRhc2hPZmZzZXQiOiBudWxsLCAiZmlsbCI6IHRydWUsICJmaWxsQ29sb3IiOiAiIzgwZmZiNCIsICJmaWxsT3BhY2l0eSI6IDAuNywgImZpbGxSdWxlIjogImV2ZW5vZGQiLCAibGluZUNhcCI6ICJyb3VuZCIsICJsaW5lSm9pbiI6ICJyb3VuZCIsICJvcGFjaXR5IjogMS4wLCAicmFkaXVzIjogNSwgInN0cm9rZSI6IHRydWUsICJ3ZWlnaHQiOiAzfQogICAgICAgICAgICApLmFkZFRvKG1hcF83M2ZjYTljN2YwYjk0NmZkOTc5YzQxNzljMTU2ODE2Myk7CiAgICAgICAgCiAgICAKICAgICAgICB2YXIgcG9wdXBfMzc3NGQwNjVkNmQyNDE5N2E0MmRiZmI2NWQ0NWUxNWUgPSBMLnBvcHVwKHsibWF4V2lkdGgiOiAiMTAwJSJ9KTsKCiAgICAgICAgCiAgICAgICAgICAgIHZhciBodG1sXzU3NzFlMDk2YzZkZTRkNjg5MjE1NWQ2NGJkZTUxYTFlID0gJChgPGRpdiBpZD0iaHRtbF81NzcxZTA5NmM2ZGU0ZDY4OTIxNTVkNjRiZGU1MWExZSIgc3R5bGU9IndpZHRoOiAxMDAuMCU7IGhlaWdodDogMTAwLjAlOyI+VGhlIEFubmV4LCBOb3J0aCBNaWR0b3duLCBZb3JrdmlsbGUgQ2x1c3RlciAzPC9kaXY+YClbMF07CiAgICAgICAgICAgIHBvcHVwXzM3NzRkMDY1ZDZkMjQxOTdhNDJkYmZiNjVkNDVlMTVlLnNldENvbnRlbnQoaHRtbF81NzcxZTA5NmM2ZGU0ZDY4OTIxNTVkNjRiZGU1MWExZSk7CiAgICAgICAgCgogICAgICAgIGNpcmNsZV9tYXJrZXJfZmMzMGQxMTNmNGUyNGMyMDk2MDNlMjRmZjZjZjc1ODMuYmluZFBvcHVwKHBvcHVwXzM3NzRkMDY1ZDZkMjQxOTdhNDJkYmZiNjVkNDVlMTVlKQogICAgICAgIDsKCiAgICAgICAgCiAgICAKICAgIAogICAgICAgICAgICB2YXIgY2lyY2xlX21hcmtlcl9jZmMzZmZhNjk2ODA0NzE2OWMwMGVhODkyOGE2NDJjYiA9IEwuY2lyY2xlTWFya2VyKAogICAgICAgICAgICAgICAgWzQzLjY2MjY5NTYsIC03OS40MDAwNDkzXSwKICAgICAgICAgICAgICAgIHsiYnViYmxpbmdNb3VzZUV2ZW50cyI6IHRydWUsICJjb2xvciI6ICIjODBmZmI0IiwgImRhc2hBcnJheSI6IG51bGwsICJkYXNoT2Zmc2V0IjogbnVsbCwgImZpbGwiOiB0cnVlLCAiZmlsbENvbG9yIjogIiM4MGZmYjQiLCAiZmlsbE9wYWNpdHkiOiAwLjcsICJmaWxsUnVsZSI6ICJldmVub2RkIiwgImxpbmVDYXAiOiAicm91bmQiLCAibGluZUpvaW4iOiAicm91bmQiLCAib3BhY2l0eSI6IDEuMCwgInJhZGl1cyI6IDUsICJzdHJva2UiOiB0cnVlLCAid2VpZ2h0IjogM30KICAgICAgICAgICAgKS5hZGRUbyhtYXBfNzNmY2E5YzdmMGI5NDZmZDk3OWM0MTc5YzE1NjgxNjMpOwogICAgICAgIAogICAgCiAgICAgICAgdmFyIHBvcHVwXzZhNTVmMGYzOTk5NTQzYWU4NWFiNDMzYTA5N2JjMmYyID0gTC5wb3B1cCh7Im1heFdpZHRoIjogIjEwMCUifSk7CgogICAgICAgIAogICAgICAgICAgICB2YXIgaHRtbF81MDcxNmRmYWVlNTU0MTRmODk4ZDdlMjIyNjAzMmZlNSA9ICQoYDxkaXYgaWQ9Imh0bWxfNTA3MTZkZmFlZTU1NDE0Zjg5OGQ3ZTIyMjYwMzJmZTUiIHN0eWxlPSJ3aWR0aDogMTAwLjAlOyBoZWlnaHQ6IDEwMC4wJTsiPkhhcmJvcmQsIFVuaXZlcnNpdHkgb2YgVG9yb250byBDbHVzdGVyIDM8L2Rpdj5gKVswXTsKICAgICAgICAgICAgcG9wdXBfNmE1NWYwZjM5OTk1NDNhZTg1YWI0MzNhMDk3YmMyZjIuc2V0Q29udGVudChodG1sXzUwNzE2ZGZhZWU1NTQxNGY4OThkN2UyMjI2MDMyZmU1KTsKICAgICAgICAKCiAgICAgICAgY2lyY2xlX21hcmtlcl9jZmMzZmZhNjk2ODA0NzE2OWMwMGVhODkyOGE2NDJjYi5iaW5kUG9wdXAocG9wdXBfNmE1NWYwZjM5OTk1NDNhZTg1YWI0MzNhMDk3YmMyZjIpCiAgICAgICAgOwoKICAgICAgICAKICAgIAogICAgCiAgICAgICAgICAgIHZhciBjaXJjbGVfbWFya2VyX2QzYjE2NWNkOTIxNTQ4MWE5OGEyZmJiZmQyZjYxM2MzID0gTC5jaXJjbGVNYXJrZXIoCiAgICAgICAgICAgICAgICBbNDMuNjUzMjA1NywgLTc5LjQwMDA0OTNdLAogICAgICAgICAgICAgICAgeyJidWJibGluZ01vdXNlRXZlbnRzIjogdHJ1ZSwgImNvbG9yIjogIiM4MGZmYjQiLCAiZGFzaEFycmF5IjogbnVsbCwgImRhc2hPZmZzZXQiOiBudWxsLCAiZmlsbCI6IHRydWUsICJmaWxsQ29sb3IiOiAiIzgwZmZiNCIsICJmaWxsT3BhY2l0eSI6IDAuNywgImZpbGxSdWxlIjogImV2ZW5vZGQiLCAibGluZUNhcCI6ICJyb3VuZCIsICJsaW5lSm9pbiI6ICJyb3VuZCIsICJvcGFjaXR5IjogMS4wLCAicmFkaXVzIjogNSwgInN0cm9rZSI6IHRydWUsICJ3ZWlnaHQiOiAzfQogICAgICAgICAgICApLmFkZFRvKG1hcF83M2ZjYTljN2YwYjk0NmZkOTc5YzQxNzljMTU2ODE2Myk7CiAgICAgICAgCiAgICAKICAgICAgICB2YXIgcG9wdXBfYThiMWFlZTBkZTVlNDllMThiYzRkNDE1ZjliZDE1MjYgPSBMLnBvcHVwKHsibWF4V2lkdGgiOiAiMTAwJSJ9KTsKCiAgICAgICAgCiAgICAgICAgICAgIHZhciBodG1sXzhjZjM3NzE3YWIwZTQ2MzRiZThjZTEzZWEyNjU5YTM4ID0gJChgPGRpdiBpZD0iaHRtbF84Y2YzNzcxN2FiMGU0NjM0YmU4Y2UxM2VhMjY1OWEzOCIgc3R5bGU9IndpZHRoOiAxMDAuMCU7IGhlaWdodDogMTAwLjAlOyI+Q2hpbmF0b3duLCBHcmFuZ2UgUGFyaywgS2Vuc2luZ3RvbiBNYXJrZXQgQ2x1c3RlciAzPC9kaXY+YClbMF07CiAgICAgICAgICAgIHBvcHVwX2E4YjFhZWUwZGU1ZTQ5ZTE4YmM0ZDQxNWY5YmQxNTI2LnNldENvbnRlbnQoaHRtbF84Y2YzNzcxN2FiMGU0NjM0YmU4Y2UxM2VhMjY1OWEzOCk7CiAgICAgICAgCgogICAgICAgIGNpcmNsZV9tYXJrZXJfZDNiMTY1Y2Q5MjE1NDgxYTk4YTJmYmJmZDJmNjEzYzMuYmluZFBvcHVwKHBvcHVwX2E4YjFhZWUwZGU1ZTQ5ZTE4YmM0ZDQxNWY5YmQxNTI2KQogICAgICAgIDsKCiAgICAgICAgCiAgICAKICAgIAogICAgICAgICAgICB2YXIgY2lyY2xlX21hcmtlcl9hMWMwYWRiYzU3ZDQ0ZGQ5YjM4YmU1NzUxNTUwMWJjYSA9IEwuY2lyY2xlTWFya2VyKAogICAgICAgICAgICAgICAgWzQzLjYyODk0NjcsIC03OS4zOTQ0MTk5XSwKICAgICAgICAgICAgICAgIHsiYnViYmxpbmdNb3VzZUV2ZW50cyI6IHRydWUsICJjb2xvciI6ICIjODBmZmI0IiwgImRhc2hBcnJheSI6IG51bGwsICJkYXNoT2Zmc2V0IjogbnVsbCwgImZpbGwiOiB0cnVlLCAiZmlsbENvbG9yIjogIiM4MGZmYjQiLCAiZmlsbE9wYWNpdHkiOiAwLjcsICJmaWxsUnVsZSI6ICJldmVub2RkIiwgImxpbmVDYXAiOiAicm91bmQiLCAibGluZUpvaW4iOiAicm91bmQiLCAib3BhY2l0eSI6IDEuMCwgInJhZGl1cyI6IDUsICJzdHJva2UiOiB0cnVlLCAid2VpZ2h0IjogM30KICAgICAgICAgICAgKS5hZGRUbyhtYXBfNzNmY2E5YzdmMGI5NDZmZDk3OWM0MTc5YzE1NjgxNjMpOwogICAgICAgIAogICAgCiAgICAgICAgdmFyIHBvcHVwXzYxZTExMGZhMTJhZDQ4YjBhMjUxOTQwYTM0MmE5NTJjID0gTC5wb3B1cCh7Im1heFdpZHRoIjogIjEwMCUifSk7CgogICAgICAgIAogICAgICAgICAgICB2YXIgaHRtbF80MWFmYjdmZjA1ZmM0MGY2YjAzMzVhNmJjMDQ2NmE3MyA9ICQoYDxkaXYgaWQ9Imh0bWxfNDFhZmI3ZmYwNWZjNDBmNmIwMzM1YTZiYzA0NjZhNzMiIHN0eWxlPSJ3aWR0aDogMTAwLjAlOyBoZWlnaHQ6IDEwMC4wJTsiPkNOIFRvd2VyLCBCYXRodXJzdCBRdWF5LCBJc2xhbmQgYWlycG9ydCwgSGFyYm91cmZyb250IFdlc3QsIEtpbmcgYW5kIFNwYWRpbmEsIFJhaWx3YXkgTGFuZHMsIFNvdXRoIE5pYWdhcmEgQ2x1c3RlciAzPC9kaXY+YClbMF07CiAgICAgICAgICAgIHBvcHVwXzYxZTExMGZhMTJhZDQ4YjBhMjUxOTQwYTM0MmE5NTJjLnNldENvbnRlbnQoaHRtbF80MWFmYjdmZjA1ZmM0MGY2YjAzMzVhNmJjMDQ2NmE3Myk7CiAgICAgICAgCgogICAgICAgIGNpcmNsZV9tYXJrZXJfYTFjMGFkYmM1N2Q0NGRkOWIzOGJlNTc1MTU1MDFiY2EuYmluZFBvcHVwKHBvcHVwXzYxZTExMGZhMTJhZDQ4YjBhMjUxOTQwYTM0MmE5NTJjKQogICAgICAgIDsKCiAgICAgICAgCiAgICAKICAgIAogICAgICAgICAgICB2YXIgY2lyY2xlX21hcmtlcl9jZDk0ZDQ3YTRlY2I0YTk5ODAxZjUzOTI0MTc0ODNlYSA9IEwuY2lyY2xlTWFya2VyKAogICAgICAgICAgICAgICAgWzQzLjY0NjQzNTIsIC03OS4zNzQ4NDU5OTk5OTk5OV0sCiAgICAgICAgICAgICAgICB7ImJ1YmJsaW5nTW91c2VFdmVudHMiOiB0cnVlLCAiY29sb3IiOiAiIzgwZmZiNCIsICJkYXNoQXJyYXkiOiBudWxsLCAiZGFzaE9mZnNldCI6IG51bGwsICJmaWxsIjogdHJ1ZSwgImZpbGxDb2xvciI6ICIjODBmZmI0IiwgImZpbGxPcGFjaXR5IjogMC43LCAiZmlsbFJ1bGUiOiAiZXZlbm9kZCIsICJsaW5lQ2FwIjogInJvdW5kIiwgImxpbmVKb2luIjogInJvdW5kIiwgIm9wYWNpdHkiOiAxLjAsICJyYWRpdXMiOiA1LCAic3Ryb2tlIjogdHJ1ZSwgIndlaWdodCI6IDN9CiAgICAgICAgICAgICkuYWRkVG8obWFwXzczZmNhOWM3ZjBiOTQ2ZmQ5NzljNDE3OWMxNTY4MTYzKTsKICAgICAgICAKICAgIAogICAgICAgIHZhciBwb3B1cF85MjVmOWRiNjQxNzc0ZWJkYmFmZGU5MjNmNGMzM2EwMyA9IEwucG9wdXAoeyJtYXhXaWR0aCI6ICIxMDAlIn0pOwoKICAgICAgICAKICAgICAgICAgICAgdmFyIGh0bWxfMDRiNmNiNzJkMjNmNDJhY2JjZmNmYzJkMWU3YjJkNTEgPSAkKGA8ZGl2IGlkPSJodG1sXzA0YjZjYjcyZDIzZjQyYWNiY2ZjZmMyZDFlN2IyZDUxIiBzdHlsZT0id2lkdGg6IDEwMC4wJTsgaGVpZ2h0OiAxMDAuMCU7Ij5TdG4gQSBQTyBCb3hlcyAyNSBUaGUgRXNwbGFuYWRlIENsdXN0ZXIgMzwvZGl2PmApWzBdOwogICAgICAgICAgICBwb3B1cF85MjVmOWRiNjQxNzc0ZWJkYmFmZGU5MjNmNGMzM2EwMy5zZXRDb250ZW50KGh0bWxfMDRiNmNiNzJkMjNmNDJhY2JjZmNmYzJkMWU3YjJkNTEpOwogICAgICAgIAoKICAgICAgICBjaXJjbGVfbWFya2VyX2NkOTRkNDdhNGVjYjRhOTk4MDFmNTM5MjQxNzQ4M2VhLmJpbmRQb3B1cChwb3B1cF85MjVmOWRiNjQxNzc0ZWJkYmFmZGU5MjNmNGMzM2EwMykKICAgICAgICA7CgogICAgICAgIAogICAgCiAgICAKICAgICAgICAgICAgdmFyIGNpcmNsZV9tYXJrZXJfYjE3ZmI1ZTFhNmQ1NDVjZGI0NmRjYjMzZDFiYjMwMDMgPSBMLmNpcmNsZU1hcmtlcigKICAgICAgICAgICAgICAgIFs0My42NDg0MjkyLCAtNzkuMzgyMjgwMl0sCiAgICAgICAgICAgICAgICB7ImJ1YmJsaW5nTW91c2VFdmVudHMiOiB0cnVlLCAiY29sb3IiOiAiIzgwZmZiNCIsICJkYXNoQXJyYXkiOiBudWxsLCAiZGFzaE9mZnNldCI6IG51bGwsICJmaWxsIjogdHJ1ZSwgImZpbGxDb2xvciI6ICIjODBmZmI0IiwgImZpbGxPcGFjaXR5IjogMC43LCAiZmlsbFJ1bGUiOiAiZXZlbm9kZCIsICJsaW5lQ2FwIjogInJvdW5kIiwgImxpbmVKb2luIjogInJvdW5kIiwgIm9wYWNpdHkiOiAxLjAsICJyYWRpdXMiOiA1LCAic3Ryb2tlIjogdHJ1ZSwgIndlaWdodCI6IDN9CiAgICAgICAgICAgICkuYWRkVG8obWFwXzczZmNhOWM3ZjBiOTQ2ZmQ5NzljNDE3OWMxNTY4MTYzKTsKICAgICAgICAKICAgIAogICAgICAgIHZhciBwb3B1cF80MTQ4MTkyYmYyN2I0MmY5YjNlNmFkOWIyZGUxMjBlNCA9IEwucG9wdXAoeyJtYXhXaWR0aCI6ICIxMDAlIn0pOwoKICAgICAgICAKICAgICAgICAgICAgdmFyIGh0bWxfMGMxMzZlZGY4ZjBmNGRmYjhkYWQxNWE0YTFiNjUxMTIgPSAkKGA8ZGl2IGlkPSJodG1sXzBjMTM2ZWRmOGYwZjRkZmI4ZGFkMTVhNGExYjY1MTEyIiBzdHlsZT0id2lkdGg6IDEwMC4wJTsgaGVpZ2h0OiAxMDAuMCU7Ij5GaXJzdCBDYW5hZGlhbiBQbGFjZSwgVW5kZXJncm91bmQgY2l0eSBDbHVzdGVyIDM8L2Rpdj5gKVswXTsKICAgICAgICAgICAgcG9wdXBfNDE0ODE5MmJmMjdiNDJmOWIzZTZhZDliMmRlMTIwZTQuc2V0Q29udGVudChodG1sXzBjMTM2ZWRmOGYwZjRkZmI4ZGFkMTVhNGExYjY1MTEyKTsKICAgICAgICAKCiAgICAgICAgY2lyY2xlX21hcmtlcl9iMTdmYjVlMWE2ZDU0NWNkYjQ2ZGNiMzNkMWJiMzAwMy5iaW5kUG9wdXAocG9wdXBfNDE0ODE5MmJmMjdiNDJmOWIzZTZhZDliMmRlMTIwZTQpCiAgICAgICAgOwoKICAgICAgICAKICAgIAogICAgCiAgICAgICAgICAgIHZhciBjaXJjbGVfbWFya2VyX2U1YmY1ZWQ0MGE3ZjRmMGJiNDA1Y2Y0ZjFiZWY0ZWNhID0gTC5jaXJjbGVNYXJrZXIoCiAgICAgICAgICAgICAgICBbNDMuNjY5NTQyLCAtNzkuNDIyNTYzN10sCiAgICAgICAgICAgICAgICB7ImJ1YmJsaW5nTW91c2VFdmVudHMiOiB0cnVlLCAiY29sb3IiOiAiIzgwZmZiNCIsICJkYXNoQXJyYXkiOiBudWxsLCAiZGFzaE9mZnNldCI6IG51bGwsICJmaWxsIjogdHJ1ZSwgImZpbGxDb2xvciI6ICIjODBmZmI0IiwgImZpbGxPcGFjaXR5IjogMC43LCAiZmlsbFJ1bGUiOiAiZXZlbm9kZCIsICJsaW5lQ2FwIjogInJvdW5kIiwgImxpbmVKb2luIjogInJvdW5kIiwgIm9wYWNpdHkiOiAxLjAsICJyYWRpdXMiOiA1LCAic3Ryb2tlIjogdHJ1ZSwgIndlaWdodCI6IDN9CiAgICAgICAgICAgICkuYWRkVG8obWFwXzczZmNhOWM3ZjBiOTQ2ZmQ5NzljNDE3OWMxNTY4MTYzKTsKICAgICAgICAKICAgIAogICAgICAgIHZhciBwb3B1cF83Mzg3MmE1OGE3ZWQ0OWMzOWRiMzM4NDA0ZTEwM2I3YyA9IEwucG9wdXAoeyJtYXhXaWR0aCI6ICIxMDAlIn0pOwoKICAgICAgICAKICAgICAgICAgICAgdmFyIGh0bWxfM2U3NTdmMmYwMjAwNDJlN2I1ZjRlMTlkZmQ1OGYwZjAgPSAkKGA8ZGl2IGlkPSJodG1sXzNlNzU3ZjJmMDIwMDQyZTdiNWY0ZTE5ZGZkNThmMGYwIiBzdHlsZT0id2lkdGg6IDEwMC4wJTsgaGVpZ2h0OiAxMDAuMCU7Ij5DaHJpc3RpZSBDbHVzdGVyIDM8L2Rpdj5gKVswXTsKICAgICAgICAgICAgcG9wdXBfNzM4NzJhNThhN2VkNDljMzlkYjMzODQwNGUxMDNiN2Muc2V0Q29udGVudChodG1sXzNlNzU3ZjJmMDIwMDQyZTdiNWY0ZTE5ZGZkNThmMGYwKTsKICAgICAgICAKCiAgICAgICAgY2lyY2xlX21hcmtlcl9lNWJmNWVkNDBhN2Y0ZjBiYjQwNWNmNGYxYmVmNGVjYS5iaW5kUG9wdXAocG9wdXBfNzM4NzJhNThhN2VkNDljMzlkYjMzODQwNGUxMDNiN2MpCiAgICAgICAgOwoKICAgICAgICAKICAgIAogICAgCiAgICAgICAgICAgIHZhciBjaXJjbGVfbWFya2VyXzk4MTNlNWE0NGExZTQ1MjFhZWY3MzBiYTA0NDRmY2Q3ID0gTC5jaXJjbGVNYXJrZXIoCiAgICAgICAgICAgICAgICBbNDMuNjY5MDA1MTAwMDAwMDEsIC03OS40NDIyNTkzXSwKICAgICAgICAgICAgICAgIHsiYnViYmxpbmdNb3VzZUV2ZW50cyI6IHRydWUsICJjb2xvciI6ICIjODBmZmI0IiwgImRhc2hBcnJheSI6IG51bGwsICJkYXNoT2Zmc2V0IjogbnVsbCwgImZpbGwiOiB0cnVlLCAiZmlsbENvbG9yIjogIiM4MGZmYjQiLCAiZmlsbE9wYWNpdHkiOiAwLjcsICJmaWxsUnVsZSI6ICJldmVub2RkIiwgImxpbmVDYXAiOiAicm91bmQiLCAibGluZUpvaW4iOiAicm91bmQiLCAib3BhY2l0eSI6IDEuMCwgInJhZGl1cyI6IDUsICJzdHJva2UiOiB0cnVlLCAid2VpZ2h0IjogM30KICAgICAgICAgICAgKS5hZGRUbyhtYXBfNzNmY2E5YzdmMGI5NDZmZDk3OWM0MTc5YzE1NjgxNjMpOwogICAgICAgIAogICAgCiAgICAgICAgdmFyIHBvcHVwXzU3MzE3NjFmYTZhMjQ1ODliZWMwNzFhZjAzYWE5NTU1ID0gTC5wb3B1cCh7Im1heFdpZHRoIjogIjEwMCUifSk7CgogICAgICAgIAogICAgICAgICAgICB2YXIgaHRtbF80NTQ0NGYyZjEwYTQ0ZjJmOWJhNjEzNjdjNmZkMGFlMiA9ICQoYDxkaXYgaWQ9Imh0bWxfNDU0NDRmMmYxMGE0NGYyZjliYTYxMzY3YzZmZDBhZTIiIHN0eWxlPSJ3aWR0aDogMTAwLjAlOyBoZWlnaHQ6IDEwMC4wJTsiPkRvdmVyY291cnQgVmlsbGFnZSwgRHVmZmVyaW4gQ2x1c3RlciAzPC9kaXY+YClbMF07CiAgICAgICAgICAgIHBvcHVwXzU3MzE3NjFmYTZhMjQ1ODliZWMwNzFhZjAzYWE5NTU1LnNldENvbnRlbnQoaHRtbF80NTQ0NGYyZjEwYTQ0ZjJmOWJhNjEzNjdjNmZkMGFlMik7CiAgICAgICAgCgogICAgICAgIGNpcmNsZV9tYXJrZXJfOTgxM2U1YTQ0YTFlNDUyMWFlZjczMGJhMDQ0NGZjZDcuYmluZFBvcHVwKHBvcHVwXzU3MzE3NjFmYTZhMjQ1ODliZWMwNzFhZjAzYWE5NTU1KQogICAgICAgIDsKCiAgICAgICAgCiAgICAKICAgIAogICAgICAgICAgICB2YXIgY2lyY2xlX21hcmtlcl9mYzlhMzAzYWE3ZGU0OGJlYjFiNWRhMTdmZWRiYmRkZSA9IEwuY2lyY2xlTWFya2VyKAogICAgICAgICAgICAgICAgWzQzLjY0NzkyNjcwMDAwMDAwNiwgLTc5LjQxOTc0OTddLAogICAgICAgICAgICAgICAgeyJidWJibGluZ01vdXNlRXZlbnRzIjogdHJ1ZSwgImNvbG9yIjogIiM4MGZmYjQiLCAiZGFzaEFycmF5IjogbnVsbCwgImRhc2hPZmZzZXQiOiBudWxsLCAiZmlsbCI6IHRydWUsICJmaWxsQ29sb3IiOiAiIzgwZmZiNCIsICJmaWxsT3BhY2l0eSI6IDAuNywgImZpbGxSdWxlIjogImV2ZW5vZGQiLCAibGluZUNhcCI6ICJyb3VuZCIsICJsaW5lSm9pbiI6ICJyb3VuZCIsICJvcGFjaXR5IjogMS4wLCAicmFkaXVzIjogNSwgInN0cm9rZSI6IHRydWUsICJ3ZWlnaHQiOiAzfQogICAgICAgICAgICApLmFkZFRvKG1hcF83M2ZjYTljN2YwYjk0NmZkOTc5YzQxNzljMTU2ODE2Myk7CiAgICAgICAgCiAgICAKICAgICAgICB2YXIgcG9wdXBfNmU0ZDA5M2MyZjUwNGMyNmIzM2FlZDU5ZWMyMDU2ODAgPSBMLnBvcHVwKHsibWF4V2lkdGgiOiAiMTAwJSJ9KTsKCiAgICAgICAgCiAgICAgICAgICAgIHZhciBodG1sXzc5NGMxMWY0NTNkYTQyYTNiYmZhNmQ1YTM5N2Q5ZGYzID0gJChgPGRpdiBpZD0iaHRtbF83OTRjMTFmNDUzZGE0MmEzYmJmYTZkNWEzOTdkOWRmMyIgc3R5bGU9IndpZHRoOiAxMDAuMCU7IGhlaWdodDogMTAwLjAlOyI+TGl0dGxlIFBvcnR1Z2FsLCBUcmluaXR5IENsdXN0ZXIgMzwvZGl2PmApWzBdOwogICAgICAgICAgICBwb3B1cF82ZTRkMDkzYzJmNTA0YzI2YjMzYWVkNTllYzIwNTY4MC5zZXRDb250ZW50KGh0bWxfNzk0YzExZjQ1M2RhNDJhM2JiZmE2ZDVhMzk3ZDlkZjMpOwogICAgICAgIAoKICAgICAgICBjaXJjbGVfbWFya2VyX2ZjOWEzMDNhYTdkZTQ4YmViMWI1ZGExN2ZlZGJiZGRlLmJpbmRQb3B1cChwb3B1cF82ZTRkMDkzYzJmNTA0YzI2YjMzYWVkNTllYzIwNTY4MCkKICAgICAgICA7CgogICAgICAgIAogICAgCiAgICAKICAgICAgICAgICAgdmFyIGNpcmNsZV9tYXJrZXJfZDAyMThlYjc5OWZiNGJhYjg3NjZhNTA2OWYwMDBmOWEgPSBMLmNpcmNsZU1hcmtlcigKICAgICAgICAgICAgICAgIFs0My42MzY4NDcyLCAtNzkuNDI4MTkxNDAwMDAwMDJdLAogICAgICAgICAgICAgICAgeyJidWJibGluZ01vdXNlRXZlbnRzIjogdHJ1ZSwgImNvbG9yIjogIiM4MGZmYjQiLCAiZGFzaEFycmF5IjogbnVsbCwgImRhc2hPZmZzZXQiOiBudWxsLCAiZmlsbCI6IHRydWUsICJmaWxsQ29sb3IiOiAiIzgwZmZiNCIsICJmaWxsT3BhY2l0eSI6IDAuNywgImZpbGxSdWxlIjogImV2ZW5vZGQiLCAibGluZUNhcCI6ICJyb3VuZCIsICJsaW5lSm9pbiI6ICJyb3VuZCIsICJvcGFjaXR5IjogMS4wLCAicmFkaXVzIjogNSwgInN0cm9rZSI6IHRydWUsICJ3ZWlnaHQiOiAzfQogICAgICAgICAgICApLmFkZFRvKG1hcF83M2ZjYTljN2YwYjk0NmZkOTc5YzQxNzljMTU2ODE2Myk7CiAgICAgICAgCiAgICAKICAgICAgICB2YXIgcG9wdXBfNTViNWU3NTYxZTRlNDM5MGEzYTYxOTg3YzhmZjJkNDMgPSBMLnBvcHVwKHsibWF4V2lkdGgiOiAiMTAwJSJ9KTsKCiAgICAgICAgCiAgICAgICAgICAgIHZhciBodG1sXzFhZTJmMDdiMjQ3MzQ0NmM5ZjlmM2YzMmM1Yjc2OTgxID0gJChgPGRpdiBpZD0iaHRtbF8xYWUyZjA3YjI0NzM0NDZjOWY5ZjNmMzJjNWI3Njk4MSIgc3R5bGU9IndpZHRoOiAxMDAuMCU7IGhlaWdodDogMTAwLjAlOyI+QnJvY2t0b24sIEV4aGliaXRpb24gUGxhY2UsIFBhcmtkYWxlIFZpbGxhZ2UgQ2x1c3RlciAzPC9kaXY+YClbMF07CiAgICAgICAgICAgIHBvcHVwXzU1YjVlNzU2MWU0ZTQzOTBhM2E2MTk4N2M4ZmYyZDQzLnNldENvbnRlbnQoaHRtbF8xYWUyZjA3YjI0NzM0NDZjOWY5ZjNmMzJjNWI3Njk4MSk7CiAgICAgICAgCgogICAgICAgIGNpcmNsZV9tYXJrZXJfZDAyMThlYjc5OWZiNGJhYjg3NjZhNTA2OWYwMDBmOWEuYmluZFBvcHVwKHBvcHVwXzU1YjVlNzU2MWU0ZTQzOTBhM2E2MTk4N2M4ZmYyZDQzKQogICAgICAgIDsKCiAgICAgICAgCiAgICAKICAgIAogICAgICAgICAgICB2YXIgY2lyY2xlX21hcmtlcl84Y2Q1NjEzN2QzYTM0OWI0OGY5MTczMzY1Y2M2ODUyMCA9IEwuY2lyY2xlTWFya2VyKAogICAgICAgICAgICAgICAgWzQzLjY2MTYwODMsIC03OS40NjQ3NjMyOTk5OTk5OV0sCiAgICAgICAgICAgICAgICB7ImJ1YmJsaW5nTW91c2VFdmVudHMiOiB0cnVlLCAiY29sb3IiOiAiIzgwZmZiNCIsICJkYXNoQXJyYXkiOiBudWxsLCAiZGFzaE9mZnNldCI6IG51bGwsICJmaWxsIjogdHJ1ZSwgImZpbGxDb2xvciI6ICIjODBmZmI0IiwgImZpbGxPcGFjaXR5IjogMC43LCAiZmlsbFJ1bGUiOiAiZXZlbm9kZCIsICJsaW5lQ2FwIjogInJvdW5kIiwgImxpbmVKb2luIjogInJvdW5kIiwgIm9wYWNpdHkiOiAxLjAsICJyYWRpdXMiOiA1LCAic3Ryb2tlIjogdHJ1ZSwgIndlaWdodCI6IDN9CiAgICAgICAgICAgICkuYWRkVG8obWFwXzczZmNhOWM3ZjBiOTQ2ZmQ5NzljNDE3OWMxNTY4MTYzKTsKICAgICAgICAKICAgIAogICAgICAgIHZhciBwb3B1cF9iZjI5NWNlMmU0ZjQ0OWZiYmFhZjUwYTIyZTNjMTVhNyA9IEwucG9wdXAoeyJtYXhXaWR0aCI6ICIxMDAlIn0pOwoKICAgICAgICAKICAgICAgICAgICAgdmFyIGh0bWxfNjNiZWE2NDAwODY0NDZlZDk3OGE4Njk5N2Q0ZjYwNTIgPSAkKGA8ZGl2IGlkPSJodG1sXzYzYmVhNjQwMDg2NDQ2ZWQ5NzhhODY5OTdkNGY2MDUyIiBzdHlsZT0id2lkdGg6IDEwMC4wJTsgaGVpZ2h0OiAxMDAuMCU7Ij5IaWdoIFBhcmssIFRoZSBKdW5jdGlvbiBTb3V0aCBDbHVzdGVyIDM8L2Rpdj5gKVswXTsKICAgICAgICAgICAgcG9wdXBfYmYyOTVjZTJlNGY0NDlmYmJhYWY1MGEyMmUzYzE1YTcuc2V0Q29udGVudChodG1sXzYzYmVhNjQwMDg2NDQ2ZWQ5NzhhODY5OTdkNGY2MDUyKTsKICAgICAgICAKCiAgICAgICAgY2lyY2xlX21hcmtlcl84Y2Q1NjEzN2QzYTM0OWI0OGY5MTczMzY1Y2M2ODUyMC5iaW5kUG9wdXAocG9wdXBfYmYyOTVjZTJlNGY0NDlmYmJhYWY1MGEyMmUzYzE1YTcpCiAgICAgICAgOwoKICAgICAgICAKICAgIAogICAgCiAgICAgICAgICAgIHZhciBjaXJjbGVfbWFya2VyXzY3YmRlM2Q0Zjk1MDRkYTk4ZGU3ODgyMzVmYjBlOWU2ID0gTC5jaXJjbGVNYXJrZXIoCiAgICAgICAgICAgICAgICBbNDMuNjQ4OTU5NywgLTc5LjQ1NjMyNV0sCiAgICAgICAgICAgICAgICB7ImJ1YmJsaW5nTW91c2VFdmVudHMiOiB0cnVlLCAiY29sb3IiOiAiIzgwZmZiNCIsICJkYXNoQXJyYXkiOiBudWxsLCAiZGFzaE9mZnNldCI6IG51bGwsICJmaWxsIjogdHJ1ZSwgImZpbGxDb2xvciI6ICIjODBmZmI0IiwgImZpbGxPcGFjaXR5IjogMC43LCAiZmlsbFJ1bGUiOiAiZXZlbm9kZCIsICJsaW5lQ2FwIjogInJvdW5kIiwgImxpbmVKb2luIjogInJvdW5kIiwgIm9wYWNpdHkiOiAxLjAsICJyYWRpdXMiOiA1LCAic3Ryb2tlIjogdHJ1ZSwgIndlaWdodCI6IDN9CiAgICAgICAgICAgICkuYWRkVG8obWFwXzczZmNhOWM3ZjBiOTQ2ZmQ5NzljNDE3OWMxNTY4MTYzKTsKICAgICAgICAKICAgIAogICAgICAgIHZhciBwb3B1cF8yMmQ5MjlhYzI3Mjc0ZTY1OWQwZDc4ZjA4NjAzNjBjNCA9IEwucG9wdXAoeyJtYXhXaWR0aCI6ICIxMDAlIn0pOwoKICAgICAgICAKICAgICAgICAgICAgdmFyIGh0bWxfYjhhY2NlMGE0NTRkNGI4NzhhOWQ4YzJjZjQ5MjdjMzAgPSAkKGA8ZGl2IGlkPSJodG1sX2I4YWNjZTBhNDU0ZDRiODc4YTlkOGMyY2Y0OTI3YzMwIiBzdHlsZT0id2lkdGg6IDEwMC4wJTsgaGVpZ2h0OiAxMDAuMCU7Ij5QYXJrZGFsZSwgUm9uY2VzdmFsbGVzIENsdXN0ZXIgMzwvZGl2PmApWzBdOwogICAgICAgICAgICBwb3B1cF8yMmQ5MjlhYzI3Mjc0ZTY1OWQwZDc4ZjA4NjAzNjBjNC5zZXRDb250ZW50KGh0bWxfYjhhY2NlMGE0NTRkNGI4NzhhOWQ4YzJjZjQ5MjdjMzApOwogICAgICAgIAoKICAgICAgICBjaXJjbGVfbWFya2VyXzY3YmRlM2Q0Zjk1MDRkYTk4ZGU3ODgyMzVmYjBlOWU2LmJpbmRQb3B1cChwb3B1cF8yMmQ5MjlhYzI3Mjc0ZTY1OWQwZDc4ZjA4NjAzNjBjNCkKICAgICAgICA7CgogICAgICAgIAogICAgCiAgICAKICAgICAgICAgICAgdmFyIGNpcmNsZV9tYXJrZXJfMTAyYTc5OTJiN2YxNGE0MmE0ODlkNzBiYTliMDdlMjQgPSBMLmNpcmNsZU1hcmtlcigKICAgICAgICAgICAgICAgIFs0My42NTE1NzA2LCAtNzkuNDg0NDQ5OV0sCiAgICAgICAgICAgICAgICB7ImJ1YmJsaW5nTW91c2VFdmVudHMiOiB0cnVlLCAiY29sb3IiOiAiIzgwZmZiNCIsICJkYXNoQXJyYXkiOiBudWxsLCAiZGFzaE9mZnNldCI6IG51bGwsICJmaWxsIjogdHJ1ZSwgImZpbGxDb2xvciI6ICIjODBmZmI0IiwgImZpbGxPcGFjaXR5IjogMC43LCAiZmlsbFJ1bGUiOiAiZXZlbm9kZCIsICJsaW5lQ2FwIjogInJvdW5kIiwgImxpbmVKb2luIjogInJvdW5kIiwgIm9wYWNpdHkiOiAxLjAsICJyYWRpdXMiOiA1LCAic3Ryb2tlIjogdHJ1ZSwgIndlaWdodCI6IDN9CiAgICAgICAgICAgICkuYWRkVG8obWFwXzczZmNhOWM3ZjBiOTQ2ZmQ5NzljNDE3OWMxNTY4MTYzKTsKICAgICAgICAKICAgIAogICAgICAgIHZhciBwb3B1cF9lZmVjZWY1OTJhMmI0YzBjYTRjNjVmMGE1OGUwMTNhMiA9IEwucG9wdXAoeyJtYXhXaWR0aCI6ICIxMDAlIn0pOwoKICAgICAgICAKICAgICAgICAgICAgdmFyIGh0bWxfZjhhMWY3M2ExN2FkNDE0NTg5NmQ3YTkwMDY2MDdjOTcgPSAkKGA8ZGl2IGlkPSJodG1sX2Y4YTFmNzNhMTdhZDQxNDU4OTZkN2E5MDA2NjA3Yzk3IiBzdHlsZT0id2lkdGg6IDEwMC4wJTsgaGVpZ2h0OiAxMDAuMCU7Ij5SdW5ueW1lZGUsIFN3YW5zZWEgQ2x1c3RlciAzPC9kaXY+YClbMF07CiAgICAgICAgICAgIHBvcHVwX2VmZWNlZjU5MmEyYjRjMGNhNGM2NWYwYTU4ZTAxM2EyLnNldENvbnRlbnQoaHRtbF9mOGExZjczYTE3YWQ0MTQ1ODk2ZDdhOTAwNjYwN2M5Nyk7CiAgICAgICAgCgogICAgICAgIGNpcmNsZV9tYXJrZXJfMTAyYTc5OTJiN2YxNGE0MmE0ODlkNzBiYTliMDdlMjQuYmluZFBvcHVwKHBvcHVwX2VmZWNlZjU5MmEyYjRjMGNhNGM2NWYwYTU4ZTAxM2EyKQogICAgICAgIDsKCiAgICAgICAgCiAgICAKICAgIAogICAgICAgICAgICB2YXIgY2lyY2xlX21hcmtlcl9lNGM0NWUwYTZiMTI0MmQ2YmEzZTNjODE0YTkxMWViZiA9IEwuY2lyY2xlTWFya2VyKAogICAgICAgICAgICAgICAgWzQzLjY2Mjc0MzksIC03OS4zMjE1NThdLAogICAgICAgICAgICAgICAgeyJidWJibGluZ01vdXNlRXZlbnRzIjogdHJ1ZSwgImNvbG9yIjogIiM4MGZmYjQiLCAiZGFzaEFycmF5IjogbnVsbCwgImRhc2hPZmZzZXQiOiBudWxsLCAiZmlsbCI6IHRydWUsICJmaWxsQ29sb3IiOiAiIzgwZmZiNCIsICJmaWxsT3BhY2l0eSI6IDAuNywgImZpbGxSdWxlIjogImV2ZW5vZGQiLCAibGluZUNhcCI6ICJyb3VuZCIsICJsaW5lSm9pbiI6ICJyb3VuZCIsICJvcGFjaXR5IjogMS4wLCAicmFkaXVzIjogNSwgInN0cm9rZSI6IHRydWUsICJ3ZWlnaHQiOiAzfQogICAgICAgICAgICApLmFkZFRvKG1hcF83M2ZjYTljN2YwYjk0NmZkOTc5YzQxNzljMTU2ODE2Myk7CiAgICAgICAgCiAgICAKICAgICAgICB2YXIgcG9wdXBfZDRkZGY0MTU5YzMwNDNlOThkNTgwY2YxYTEwMzJhZmMgPSBMLnBvcHVwKHsibWF4V2lkdGgiOiAiMTAwJSJ9KTsKCiAgICAgICAgCiAgICAgICAgICAgIHZhciBodG1sXzg2Yzg1YTNlY2ZhODRhNzY5MDJkZTZiYmRkYmM2NGY3ID0gJChgPGRpdiBpZD0iaHRtbF84NmM4NWEzZWNmYTg0YTc2OTAyZGU2YmJkZGJjNjRmNyIgc3R5bGU9IndpZHRoOiAxMDAuMCU7IGhlaWdodDogMTAwLjAlOyI+QnVzaW5lc3MgUmVwbHkgTWFpbCBQcm9jZXNzaW5nIENlbnRyZSA5NjkgRWFzdGVybiBDbHVzdGVyIDM8L2Rpdj5gKVswXTsKICAgICAgICAgICAgcG9wdXBfZDRkZGY0MTU5YzMwNDNlOThkNTgwY2YxYTEwMzJhZmMuc2V0Q29udGVudChodG1sXzg2Yzg1YTNlY2ZhODRhNzY5MDJkZTZiYmRkYmM2NGY3KTsKICAgICAgICAKCiAgICAgICAgY2lyY2xlX21hcmtlcl9lNGM0NWUwYTZiMTI0MmQ2YmEzZTNjODE0YTkxMWViZi5iaW5kUG9wdXAocG9wdXBfZDRkZGY0MTU5YzMwNDNlOThkNTgwY2YxYTEwMzJhZmMpCiAgICAgICAgOwoKICAgICAgICAKICAgIAo8L3NjcmlwdD4=\" style=\"position:absolute;width:100%;height:100%;left:0;top:0;border:none !important;\" allowfullscreen webkitallowfullscreen mozallowfullscreen></iframe></div></div>"
      ],
      "text/plain": [
       "<folium.folium.Map at 0x11eb3a668>"
      ]
     },
     "execution_count": 20,
     "metadata": {},
     "output_type": "execute_result"
    }
   ],
   "source": [
    "map_clusters = folium.Map(location=[latitude, longitude], zoom_start=11)\n",
    "# set color scheme for the clusters\n",
    "x = np.arange(kclusters)\n",
    "ys = [i + x + (i*x)**2 for i in range(kclusters)]\n",
    "colors_array = cm.rainbow(np.linspace(0, 1, len(ys)))\n",
    "rainbow = [colors.rgb2hex(i) for i in colors_array]\n",
    "# add markers to the map\n",
    "markers_colors = []\n",
    "for lat, lon, poi, cluster in zip(toronto_merged['Latitude'], toronto_merged['Longitude'], toronto_merged['Neighborhood'], toronto_merged['Cluster Labels']):\n",
    "    label = folium.Popup(str(poi) + ' Cluster ' + str(cluster), parse_html=True)\n",
    "    folium.CircleMarker(\n",
    "        [lat, lon],\n",
    "        radius=5,\n",
    "        popup=label,\n",
    "        color=rainbow[cluster-1],\n",
    "        fill=True,\n",
    "        fill_color=rainbow[cluster-1],\n",
    "        fill_opacity=0.7).add_to(map_clusters)\n",
    "       \n",
    "map_clusters"
   ]
  },
  {
   "cell_type": "markdown",
   "metadata": {},
   "source": [
    "#### Observation: it seems as if the downtown area is dominated by Cluster 3. Consider refining the sample to a more specific area to parse out heterogenity within this group."
   ]
  },
  {
   "cell_type": "code",
   "execution_count": null,
   "metadata": {},
   "outputs": [],
   "source": []
  }
 ],
 "metadata": {
  "kernelspec": {
   "display_name": "Python 3",
   "language": "python",
   "name": "python3"
  },
  "language_info": {
   "codemirror_mode": {
    "name": "ipython",
    "version": 3
   },
   "file_extension": ".py",
   "mimetype": "text/x-python",
   "name": "python",
   "nbconvert_exporter": "python",
   "pygments_lexer": "ipython3",
   "version": "3.7.1"
  }
 },
 "nbformat": 4,
 "nbformat_minor": 2
}
